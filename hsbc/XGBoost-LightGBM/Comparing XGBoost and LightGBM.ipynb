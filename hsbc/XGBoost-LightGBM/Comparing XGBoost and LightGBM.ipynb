{
 "cells": [
  {
   "cell_type": "markdown",
   "metadata": {},
   "source": [
    "<img src=\"https://www.research.hsbc.com/A/MultiAssetHeatmap/etc/HSBC_GR_Logo_New.png\" style=\"width:300px;margin-top:10px\" align=\"left\"/>\n",
    "<a href=\"https://www.research.hsbc.com/C/1/1/323/PnwFQ9T\"><img src=\"https://www.research.hsbc.com/A/MultiAssetHeatmap/etc/DataScienceBanner.jpg\" style=\"width:310px;margin-top:3px\" align=\"right\"/></a>"
   ]
  },
  {
   "cell_type": "markdown",
   "metadata": {},
   "source": [
    "# Comparing XGBoost and LightGBM\n",
    "__N.B.__ In this notebook we focus on a family of supervised machine learning models called Ensembles of Decision Trees. We have used such techniques extensively in our previous publications. A few of them are linked below: <br/>\n",
    "Link ----> <a href=\"https://www.research.hsbc.com/R/36/NkbRXVQC2Rnf\">Machine Learning 102</a><br/>\n",
    "Link ----> <a href=\"https://www.research.hsbc.com/R/36/6ftWmDlC2Rnf\">Predicting Pullbacks</a><br/>\n",
    "Link ----> <a href=\"https://www.research.hsbc.com/R/36/TWBkB7XC2Rnf\">Global Credit Strategy: 2020 and Beyond</a><br/>\n",
    "__Get in touch with HSBC Data Science Team__ <br/>\n",
    "Link ----> <a href=\"https://www.research.hsbc.com/C/1/1/323/PnwFQ9T\">https://www.research.hsbc.com/C/1/1/323/PnwFQ9T</a>"
   ]
  },
  {
   "cell_type": "markdown",
   "metadata": {},
   "source": [
    "XGBoost and LightGBM are both ensembles of gradient boosted decision trees. However, the mechanics of how these models build up the trees in the ensemble mean that there are important differences betwen them.\n",
    "\n",
    "In this notebook we use both XGBoost and LightGBM to build a classification model for a publically available dataset. The dataset is taken from this Kaggle competition: <href> https://www.kaggle.com/mlg-ulb/creditcardfraud </href><br/>\n",
    "If this link is not accessible from your corporate environment, it is available on serveral github repos. Ask us and we can point you to one.\n",
    "#### Data\n",
    "The data contains information about credit card transactions and the task is to predict whether the transactions are fraudulent or not.\n",
    "\n",
    "The dataset contains 30 features and the variable to predict is a binary outcome: 1 (fraud) or 0 (not fraud). 28 of the features are principal components of the original data; the original data was clearly too sensitive to release to the public."
   ]
  },
  {
   "cell_type": "markdown",
   "metadata": {},
   "source": [
    "### Instructions to run this notebook \n",
    "1. Create a virtualenv - virtualenv ENVNAME\n",
    "2. source activate ENVNAME\n",
    "3. pip install ipykernel\n",
    "4. python -m ipykernel install --user --name ENVNAME --display-name \"Python (whatever you want to call it)\"\n",
    "5. pip Install the following versions of the packages:<br>pandas==0.24.2<br> numpy==1.16.2 <br> scikit-learn==0.21.2 <br>scikit-image==0.14.2<br> matplotlib==3.0.3 <br>scipy==1.2.1<br>lightgbm==2.2.3<br> xgboost==0.82 <br> shap==0.30.1<br> bayesian-optimization==1.0.1<br>\n",
    "6. with the new environment - open jupyter  "
   ]
  },
  {
   "cell_type": "code",
   "execution_count": 1,
   "metadata": {
    "scrolled": true
   },
   "outputs": [],
   "source": [
    "#Importing the required libraries\n",
    "import pandas as pd\n",
    "import numpy as np\n",
    "\n",
    "import warnings\n",
    "warnings.filterwarnings('ignore')\n",
    "\n",
    "import xgboost as xgb\n",
    "import lightgbm as lgb\n",
    "\n",
    "from xgboost import XGBClassifier\n",
    "from lightgbm import LGBMClassifier\n",
    "\n",
    "from sklearn.model_selection import GridSearchCV\n",
    "import bayes_opt as bayso\n",
    "\n",
    "from sklearn.model_selection import train_test_split\n",
    "from sklearn import metrics\n",
    "from sklearn.metrics import accuracy_score, mean_absolute_error, classification_report, confusion_matrix,log_loss,roc_auc_score,auc,precision_recall_curve\n",
    "\n",
    "import matplotlib.pyplot as plt \n",
    "from utils import pretty_confusion_matrix\n",
    "import time"
   ]
  },
  {
   "cell_type": "markdown",
   "metadata": {},
   "source": [
    "#### Loading credit card transactions into a Pandas Dataframe"
   ]
  },
  {
   "cell_type": "code",
   "execution_count": 2,
   "metadata": {},
   "outputs": [],
   "source": [
    "data = pd.read_csv(\"creditcard.csv\")\n",
    "# Remove the column Time as its not required\n",
    "data.drop(columns=['Time'],axis=1, inplace=True)"
   ]
  },
  {
   "cell_type": "code",
   "execution_count": 3,
   "metadata": {},
   "outputs": [
    {
     "data": {
      "text/plain": [
       "(284807, 30)"
      ]
     },
     "execution_count": 3,
     "metadata": {},
     "output_type": "execute_result"
    }
   ],
   "source": [
    "# have a quick look to see if the dataframe seems sensible\n",
    "data.shape"
   ]
  },
  {
   "cell_type": "code",
   "execution_count": 4,
   "metadata": {},
   "outputs": [
    {
     "data": {
      "text/plain": [
       "0    284315\n",
       "1       492\n",
       "Name: Class, dtype: int64"
      ]
     },
     "execution_count": 4,
     "metadata": {},
     "output_type": "execute_result"
    }
   ],
   "source": [
    "# Look at the distribution of your dependent variable.\n",
    "data.Class.value_counts()"
   ]
  },
  {
   "cell_type": "markdown",
   "metadata": {},
   "source": [
    "#### Create the training data"
   ]
  },
  {
   "cell_type": "code",
   "execution_count": 5,
   "metadata": {},
   "outputs": [],
   "source": [
    "# Keep all the independent variables in X and the dependent variable in y\n",
    "X = data.iloc[:,:-1]\n",
    "y= data.iloc[:,-1]\n",
    "\n",
    "# Carry out a 80-20 train-test split\n",
    "X_train, X_test,y_train,y_test = train_test_split(X, y, test_size=0.2, random_state=42)"
   ]
  },
  {
   "cell_type": "code",
   "execution_count": 6,
   "metadata": {},
   "outputs": [
    {
     "name": "stdout",
     "output_type": "stream",
     "text": [
      "0    227451\n",
      "1       394\n",
      "Name: Class, dtype: int64\n",
      "0    56864\n",
      "1       98\n",
      "Name: Class, dtype: int64\n"
     ]
    }
   ],
   "source": [
    "# Check the distribution of the dependent variable in train and test data\n",
    "print(y_train.value_counts())\n",
    "print(y_test.value_counts())"
   ]
  },
  {
   "cell_type": "markdown",
   "metadata": {},
   "source": [
    "## The comparison\n",
    "We will compare three models throughout this notebook:<ol>\n",
    "    <li> XGBoost\n",
    "    <li> XGBoost (with same tree-growing policy as LightGBM)\n",
    "    <li> LightGBM\n",
    "</ol>        \n",
    "We have selected two avenues for comparision: <b>Speed and Performance</b>\n",
    "\n",
    "Initially we will fit \"comparable\" models for each of these and time how long it takes to fit the model to our training data. We will then do an extensive hyperparameter search and compare performance of these three models when they are at their best. <br>\n",
    "**N.B. Because of the different ways in which XGBoost and LightGBM build the constitutent trees we need to specify the maximum number of leaves to be 2^*max_depth* in order to have comparable calculation complexity.**"
   ]
  },
  {
   "cell_type": "markdown",
   "metadata": {},
   "source": [
    "This data set has a very noticeable __class imbalance__ (there are vastly more examples of Class 0 than there are of Class 1). There are several methods which can be used in order to combat this imbalance. We have discussed this topic in a previous edition of IDSL. Please contact us if you missed that. <br>\n",
    "For binary models in both XGBoost and LightGBM, there is an easy way to balance the classes by increasing the weight on negative class(less instances) using a parameter called *scale_pos_weight*."
   ]
  },
  {
   "cell_type": "markdown",
   "metadata": {},
   "source": [
    "## Speed\n",
    "__Timing our Models__<br>\n",
    "We can profile our code to check how long it takes to fit the three models. In Jupyter, this can be done  using magic commands which start with \"%%\""
   ]
  },
  {
   "cell_type": "code",
   "execution_count": 7,
   "metadata": {},
   "outputs": [
    {
     "name": "stdout",
     "output_type": "stream",
     "text": [
      "Number of cores Available:  12\n"
     ]
    }
   ],
   "source": [
    "import multiprocessing\n",
    "coresavailable = multiprocessing.cpu_count()\n",
    "print(\"Number of cores Available: \" , coresavailable)"
   ]
  },
  {
   "cell_type": "markdown",
   "metadata": {},
   "source": [
    "__N.B.__ Number of available cores is to check how many cores are available to multiprocess all these models. When running this notebook, please update n_jobs (below) as required to maintain your computers usability. Generally, 2-3 cores can be left idle so you can use your machine while these models learn."
   ]
  },
  {
   "cell_type": "code",
   "execution_count": 8,
   "metadata": {},
   "outputs": [],
   "source": [
    "#Model Parameters\n",
    "max_depth = 3 # Max depth for base trees\n",
    "lr = 0.1 # Learning rate for the algorithm\n",
    "Ne = 250 # Number of boosted trees to fit\n",
    "njobs = coresavailable - 4 # This corresponds to number of cores to run on you have.Please change as required\n",
    "## FIX FOR CLASS IMBALANCE\n",
    "scale_pos_weight = y_train.value_counts()[0] / y_train.value_counts()[1]"
   ]
  },
  {
   "cell_type": "code",
   "execution_count": 9,
   "metadata": {},
   "outputs": [],
   "source": [
    "#Initialize the three models\n",
    "xgbc = XGBClassifier(max_depth=max_depth, n_jobs=njobs, learning_rate=lr, scale_pos_weight=scale_pos_weight,\n",
    "                    n_estimators=Ne,verbose=False)\n",
    "hist_xgbc = XGBClassifier(max_depth=max_depth,n_jobs=njobs, learning_rate=lr, scale_pos_weight=scale_pos_weight,\n",
    "                    n_estimators=Ne, tree_method ='hist',grow_policy='lossguide',verbose=False)\n",
    "lgbmc = LGBMClassifier(num_leaves = 2**max_depth,n_jobs=njobs, learning_rate=lr, scale_pos_weight=scale_pos_weight,\n",
    "                      n_estimators=Ne,)"
   ]
  },
  {
   "cell_type": "code",
   "execution_count": 10,
   "metadata": {
    "scrolled": true
   },
   "outputs": [
    {
     "name": "stdout",
     "output_type": "stream",
     "text": [
      "Wall time: 31.6 s\n"
     ]
    },
    {
     "data": {
      "text/plain": [
       "XGBClassifier(base_score=0.5, booster='gbtree', colsample_bylevel=1,\n",
       "              colsample_bytree=1, gamma=0, learning_rate=0.1, max_delta_step=0,\n",
       "              max_depth=3, min_child_weight=1, missing=None, n_estimators=250,\n",
       "              n_jobs=8, nthread=None, objective='binary:logistic',\n",
       "              random_state=0, reg_alpha=0, reg_lambda=1,\n",
       "              scale_pos_weight=577.2868020304569, seed=None, silent=True,\n",
       "              subsample=1, verbose=False)"
      ]
     },
     "execution_count": 10,
     "metadata": {},
     "output_type": "execute_result"
    }
   ],
   "source": [
    "%%time\n",
    "xgbc.fit(X_train,y_train)"
   ]
  },
  {
   "cell_type": "code",
   "execution_count": 11,
   "metadata": {},
   "outputs": [
    {
     "name": "stdout",
     "output_type": "stream",
     "text": [
      "Wall time: 5.49 s\n"
     ]
    },
    {
     "data": {
      "text/plain": [
       "XGBClassifier(base_score=0.5, booster='gbtree', colsample_bylevel=1,\n",
       "              colsample_bytree=1, gamma=0, grow_policy='lossguide',\n",
       "              learning_rate=0.1, max_delta_step=0, max_depth=3,\n",
       "              min_child_weight=1, missing=None, n_estimators=250, n_jobs=8,\n",
       "              nthread=None, objective='binary:logistic', random_state=0,\n",
       "              reg_alpha=0, reg_lambda=1, scale_pos_weight=577.2868020304569,\n",
       "              seed=None, silent=True, subsample=1, tree_method='hist',\n",
       "              verbose=False)"
      ]
     },
     "execution_count": 11,
     "metadata": {},
     "output_type": "execute_result"
    }
   ],
   "source": [
    "%%time\n",
    "hist_xgbc.fit(X_train,y_train)"
   ]
  },
  {
   "cell_type": "code",
   "execution_count": 12,
   "metadata": {},
   "outputs": [
    {
     "name": "stdout",
     "output_type": "stream",
     "text": [
      "Wall time: 1.81 s\n"
     ]
    },
    {
     "data": {
      "text/plain": [
       "LGBMClassifier(boosting_type='gbdt', class_weight=None, colsample_bytree=1.0,\n",
       "               importance_type='split', learning_rate=0.1, max_depth=-1,\n",
       "               min_child_samples=20, min_child_weight=0.001, min_split_gain=0.0,\n",
       "               n_estimators=250, n_jobs=8, num_leaves=8, objective=None,\n",
       "               random_state=None, reg_alpha=0.0, reg_lambda=0.0,\n",
       "               scale_pos_weight=577.2868020304569, silent=True, subsample=1.0,\n",
       "               subsample_for_bin=200000, subsample_freq=0)"
      ]
     },
     "execution_count": 12,
     "metadata": {},
     "output_type": "execute_result"
    }
   ],
   "source": [
    "%%time\n",
    "lgbmc.fit(X_train,y_train)"
   ]
  },
  {
   "cell_type": "markdown",
   "metadata": {},
   "source": [
    "So we can see that when we do one iteration of fitting the data, __LightGBM is the fastest__, then XGBoost with the same tree-growing policy (best first) as LightGBM, and then XGBoost with the default tree-growing method is slowest (with runtime more than 17 times the runtime of LightGBM).\n",
    "\n",
    "If all we had to do was fit the model once then this performance difference would not be that dramatic - 36s for the slowest of the models is not a long time. However, a Machine Learning pipeline will typically involve fitting variations of the model several times in order choose values for the model hyperparameters."
   ]
  },
  {
   "cell_type": "markdown",
   "metadata": {},
   "source": [
    "## Performance\n",
    "\n",
    "__Hyperparameter Optimization__ <br>\n",
    "For each of the three models we will use a  technique called __Bayesian optimisation__ in order to choose good hyperparameters.\n",
    "\n",
    "__Create Datasets for the Models__<br>\n",
    "Both XGBoost and LightBGM come with their own data objects to create training data. These objects are optimised for use with these models for faster and more memory efficient results."
   ]
  },
  {
   "cell_type": "code",
   "execution_count": 13,
   "metadata": {},
   "outputs": [],
   "source": [
    "# XGBoost Datd Object - DMatrix\n",
    "xgb_train_data = xgb.DMatrix(X_train, label=y_train)\n",
    "xgb_test_data = xgb.DMatrix(X_test)\n",
    "#LightGBM Data Object - Dataset\n",
    "lgb_train_data = lgb.Dataset(X_train, y_train)\n",
    "lgb_test_data = lgb.Dataset(X_test, y_test, reference=lgb_train_data)"
   ]
  },
  {
   "cell_type": "markdown",
   "metadata": {},
   "source": [
    "__Parameter Dictionary__ <br>\n",
    "We will create dictionaries of parameters that is used for the three algorithms We then optimize these parameters using two functions."
   ]
  },
  {
   "cell_type": "code",
   "execution_count": 14,
   "metadata": {},
   "outputs": [],
   "source": [
    "model_type = {}\n",
    "max_allowed_depth = 10\n",
    "xgb_param_dict = {'learning_rate':(0.005,0.5),\n",
    "               'num_boost_round':(100,300),\n",
    "              'min_child_weight': (0, 20),\n",
    "              'max_depth': (3, max_allowed_depth),\n",
    "              'subsample': (0.5, 1.0),\n",
    "              'reg_alpha': (0, 30),\n",
    "              'reg_lambda': (0, 40)}\n",
    "\n",
    "xgb_hist_param_dict = {'learning_rate':(0.005,0.5),\n",
    "               'num_boost_round':(100,300),\n",
    "              'min_child_weight': (0, 20),\n",
    "              'max_depth': (2**3, 2**max_allowed_depth),# Called Max Rounds in ligh GBM\n",
    "              'subsample': (0.5, 1.0),\n",
    "              'reg_alpha': (0, 30),\n",
    "              'reg_lambda': (0, 40)}\n",
    "\n",
    "lgbm_param_dict = {'learning_rate':(0.005,0.5),\n",
    "               'num_boost_round':(100,300),\n",
    "              'min_child_weight': (0, 20),\n",
    "              'max_depth': (2**3, 2**max_allowed_depth), # Called Num Rounds in ligh GBM\n",
    "              'subsample': (0.5, 1.0),\n",
    "              'reg_alpha': (0, 30),\n",
    "              'reg_lambda': (0, 40)}"
   ]
  },
  {
   "cell_type": "markdown",
   "metadata": {},
   "source": [
    "__Functions for Hyperparameter Learning__ <br>\n",
    "The first function below returns the cross-validated performance of the classifier -- this is the variable which we want to optimize using the parameter dictionary. The second function takes the output from the first function and optimizes the model result using the bayesian optimizer package. Abstracting logic in functions like these keeps code clean and more functional."
   ]
  },
  {
   "cell_type": "code",
   "execution_count": 15,
   "metadata": {},
   "outputs": [],
   "source": [
    "# Function 1: Return the model cross validation results to be optimized\n",
    "def model_results_cv(learning_rate, num_boost_round, min_child_weight, max_depth, subsample,\n",
    "                     reg_alpha, reg_lambda):\n",
    "    \n",
    "    params = {}\n",
    "    #constant parameters\n",
    "    params['random_state']: 42 \n",
    "    params['scale_pos_weight']: scale_pos_weight # Defined in the cell at the begining\n",
    "   \n",
    "    if model_type['model'] =='XGboost':\n",
    "        #Setting Hyperparameters to optimize\n",
    "        params = {\n",
    "            'objective':'binary:logistic',\n",
    "            'eval_metric':'logloss',\n",
    "            'num_boost_round' : int(num_boost_round),\n",
    "            'nthread': njobs,\n",
    "            'learning_rate': float(learning_rate),\n",
    "            'min_child_weight': int(min_child_weight),\n",
    "            'max_depth': int(max_depth),            \n",
    "            'subsample': max(min(subsample, 1), 0),\n",
    "            'reg_alpha': max(reg_alpha,0),\n",
    "            'reg_lambda': max(reg_lambda,0)\n",
    "        }                \n",
    "        cv_result = xgb.cv(params, xgb_train_data,num_boost_round=params['num_boost_round'], nfold=3)\n",
    "        return (-cv_result['test-logloss-mean'].iloc[-1])\n",
    "    \n",
    "    \n",
    "    if model_type['model'] == 'XGboosthist':  \n",
    "        params = {\n",
    "            'objective':'binary:logistic',\n",
    "            'eval_metric':'logloss',\n",
    "            'tree_method':'hist',\n",
    "            'grow_policy':'lossguide',\n",
    "            'max_bin': 100,\n",
    "            'nthread': njobs,\n",
    "            'num_boost_round' : int(num_boost_round),\n",
    "            'learning_rate': float(learning_rate),\n",
    "            'min_child_weight': int(min_child_weight),\n",
    "            'max_leaves': int(max_depth),            \n",
    "            'subsample': max(min(subsample, 1), 0),\n",
    "            'reg_alpha': max(reg_alpha,0),\n",
    "            'reg_lambda': max(reg_lambda,0)\n",
    "        }                          \n",
    "        cv_result = xgb.cv(params, xgb_train_data,num_boost_round=params['num_boost_round'], nfold=3)\n",
    "        return (-cv_result['test-logloss-mean'].iloc[-1])\n",
    "    \n",
    "    if model_type['model'] == 'lightgbm':      \n",
    "        params = {\n",
    "            'objective':'binary',\n",
    "            'metric':'binary_logloss',\n",
    "            'boosting':'gbdt',\n",
    "            'max_bin': 100,\n",
    "            'num_threads': njobs,\n",
    "            'num_boost_round' : int(num_boost_round),\n",
    "            'min_data_in_leaf': 0,# Setting this to zero because we want comparable models and regularizing with min_child\n",
    "            'learning_rate': float(learning_rate),\n",
    "            'min_child_weight': int(min_child_weight),\n",
    "            'num_leaves': int(max_depth),            \n",
    "            'subsample': max(min(subsample, 1), 0),\n",
    "            'reg_alpha': max(reg_alpha,0),\n",
    "            'reg_lambda': max(reg_lambda,0)\n",
    "        }                 \n",
    "        cv_result = lgb.cv(params, lgb_train_data,nfold=3)        \n",
    "        return (-cv_result['binary_logloss-mean'][-1])\n",
    "    "
   ]
  },
  {
   "cell_type": "code",
   "execution_count": 16,
   "metadata": {},
   "outputs": [],
   "source": [
    "# Function 2:Bayesian Optimization For Hyperparamter Opt\n",
    "def hyperparameter_tuning(classifier, parameters):\n",
    "    init_points = 15\n",
    "    numitems= 50\n",
    "    optimizer = bayso.BayesianOptimization(classifier,parameters, random_state = 20160623)\n",
    "    optimizer.maximize(init_points=init_points, n_iter=numitems)\n",
    "    return optimizer"
   ]
  },
  {
   "cell_type": "markdown",
   "metadata": {},
   "source": [
    "##### Hyperparameter optimization for all three models and calculate time..."
   ]
  },
  {
   "cell_type": "code",
   "execution_count": 17,
   "metadata": {
    "scrolled": true
   },
   "outputs": [
    {
     "name": "stdout",
     "output_type": "stream",
     "text": [
      "|   iter    |  target   | learni... | max_depth | min_ch... | num_bo... | reg_alpha | reg_la... | subsample |\n",
      "-------------------------------------------------------------------------------------------------------------\n",
      "| \u001b[0m 1       \u001b[0m | \u001b[0m-0.003113\u001b[0m | \u001b[0m 0.1267  \u001b[0m | \u001b[0m 3.259   \u001b[0m | \u001b[0m 3.316   \u001b[0m | \u001b[0m 108.9   \u001b[0m | \u001b[0m 16.35   \u001b[0m | \u001b[0m 29.75   \u001b[0m | \u001b[0m 0.7857  \u001b[0m |\n",
      "| \u001b[0m 2       \u001b[0m | \u001b[0m-0.003235\u001b[0m | \u001b[0m 0.2947  \u001b[0m | \u001b[0m 8.17    \u001b[0m | \u001b[0m 8.252   \u001b[0m | \u001b[0m 194.7   \u001b[0m | \u001b[0m 21.36   \u001b[0m | \u001b[0m 8.717   \u001b[0m | \u001b[0m 0.634   \u001b[0m |\n",
      "| \u001b[0m 3       \u001b[0m | \u001b[0m-0.003414\u001b[0m | \u001b[0m 0.1991  \u001b[0m | \u001b[0m 8.561   \u001b[0m | \u001b[0m 18.56   \u001b[0m | \u001b[0m 114.7   \u001b[0m | \u001b[0m 26.08   \u001b[0m | \u001b[0m 4.932   \u001b[0m | \u001b[0m 0.7492  \u001b[0m |\n",
      "| \u001b[0m 4       \u001b[0m | \u001b[0m-0.003138\u001b[0m | \u001b[0m 0.2957  \u001b[0m | \u001b[0m 8.932   \u001b[0m | \u001b[0m 3.971   \u001b[0m | \u001b[0m 100.6   \u001b[0m | \u001b[0m 21.66   \u001b[0m | \u001b[0m 30.83   \u001b[0m | \u001b[0m 0.7681  \u001b[0m |\n",
      "| \u001b[95m 5       \u001b[0m | \u001b[95m-0.002944\u001b[0m | \u001b[95m 0.3284  \u001b[0m | \u001b[95m 3.499   \u001b[0m | \u001b[95m 4.461   \u001b[0m | \u001b[95m 112.7   \u001b[0m | \u001b[95m 11.54   \u001b[0m | \u001b[95m 38.3    \u001b[0m | \u001b[95m 0.9418  \u001b[0m |\n",
      "| \u001b[0m 6       \u001b[0m | \u001b[0m-0.003308\u001b[0m | \u001b[0m 0.1414  \u001b[0m | \u001b[0m 8.408   \u001b[0m | \u001b[0m 0.714   \u001b[0m | \u001b[0m 286.8   \u001b[0m | \u001b[0m 28.9    \u001b[0m | \u001b[0m 5.278   \u001b[0m | \u001b[0m 0.6448  \u001b[0m |\n",
      "| \u001b[0m 7       \u001b[0m | \u001b[0m-0.003206\u001b[0m | \u001b[0m 0.4917  \u001b[0m | \u001b[0m 3.995   \u001b[0m | \u001b[0m 15.25   \u001b[0m | \u001b[0m 219.0   \u001b[0m | \u001b[0m 20.31   \u001b[0m | \u001b[0m 25.01   \u001b[0m | \u001b[0m 0.9159  \u001b[0m |\n",
      "| \u001b[0m 8       \u001b[0m | \u001b[0m-0.003113\u001b[0m | \u001b[0m 0.2977  \u001b[0m | \u001b[0m 7.527   \u001b[0m | \u001b[0m 9.699   \u001b[0m | \u001b[0m 194.0   \u001b[0m | \u001b[0m 17.03   \u001b[0m | \u001b[0m 32.69   \u001b[0m | \u001b[0m 0.9635  \u001b[0m |\n",
      "| \u001b[0m 9       \u001b[0m | \u001b[0m-0.003236\u001b[0m | \u001b[0m 0.2422  \u001b[0m | \u001b[0m 7.284   \u001b[0m | \u001b[0m 16.91   \u001b[0m | \u001b[0m 114.0   \u001b[0m | \u001b[0m 17.17   \u001b[0m | \u001b[0m 24.9    \u001b[0m | \u001b[0m 0.7705  \u001b[0m |\n",
      "| \u001b[0m 10      \u001b[0m | \u001b[0m-0.003356\u001b[0m | \u001b[0m 0.2959  \u001b[0m | \u001b[0m 5.091   \u001b[0m | \u001b[0m 18.41   \u001b[0m | \u001b[0m 160.9   \u001b[0m | \u001b[0m 15.61   \u001b[0m | \u001b[0m 26.65   \u001b[0m | \u001b[0m 0.5297  \u001b[0m |\n",
      "| \u001b[0m 11      \u001b[0m | \u001b[0m-0.003331\u001b[0m | \u001b[0m 0.07836 \u001b[0m | \u001b[0m 5.031   \u001b[0m | \u001b[0m 7.027   \u001b[0m | \u001b[0m 182.5   \u001b[0m | \u001b[0m 28.16   \u001b[0m | \u001b[0m 38.39   \u001b[0m | \u001b[0m 0.7905  \u001b[0m |\n",
      "| \u001b[0m 12      \u001b[0m | \u001b[0m-0.003055\u001b[0m | \u001b[0m 0.1181  \u001b[0m | \u001b[0m 9.331   \u001b[0m | \u001b[0m 12.33   \u001b[0m | \u001b[0m 149.7   \u001b[0m | \u001b[0m 7.358   \u001b[0m | \u001b[0m 25.2    \u001b[0m | \u001b[0m 0.688   \u001b[0m |\n",
      "| \u001b[0m 13      \u001b[0m | \u001b[0m-0.003001\u001b[0m | \u001b[0m 0.08546 \u001b[0m | \u001b[0m 8.03    \u001b[0m | \u001b[0m 12.76   \u001b[0m | \u001b[0m 249.3   \u001b[0m | \u001b[0m 10.96   \u001b[0m | \u001b[0m 2.141   \u001b[0m | \u001b[0m 0.6492  \u001b[0m |\n",
      "| \u001b[0m 14      \u001b[0m | \u001b[0m-0.003261\u001b[0m | \u001b[0m 0.4635  \u001b[0m | \u001b[0m 6.825   \u001b[0m | \u001b[0m 19.13   \u001b[0m | \u001b[0m 130.2   \u001b[0m | \u001b[0m 17.37   \u001b[0m | \u001b[0m 1.926   \u001b[0m | \u001b[0m 0.9777  \u001b[0m |\n",
      "| \u001b[0m 15      \u001b[0m | \u001b[0m-0.003166\u001b[0m | \u001b[0m 0.3797  \u001b[0m | \u001b[0m 9.094   \u001b[0m | \u001b[0m 3.693   \u001b[0m | \u001b[0m 262.6   \u001b[0m | \u001b[0m 23.99   \u001b[0m | \u001b[0m 16.1    \u001b[0m | \u001b[0m 0.703   \u001b[0m |\n",
      "| \u001b[0m 16      \u001b[0m | \u001b[0m-0.003045\u001b[0m | \u001b[0m 0.03222 \u001b[0m | \u001b[0m 7.416   \u001b[0m | \u001b[0m 0.7865  \u001b[0m | \u001b[0m 299.5   \u001b[0m | \u001b[0m 0.6901  \u001b[0m | \u001b[0m 39.55   \u001b[0m | \u001b[0m 0.5478  \u001b[0m |\n",
      "| \u001b[95m 17      \u001b[0m | \u001b[95m-0.002942\u001b[0m | \u001b[95m 0.249   \u001b[0m | \u001b[95m 7.801   \u001b[0m | \u001b[95m 19.04   \u001b[0m | \u001b[95m 298.7   \u001b[0m | \u001b[95m 1.827   \u001b[0m | \u001b[95m 38.36   \u001b[0m | \u001b[95m 0.7419  \u001b[0m |\n",
      "| \u001b[0m 18      \u001b[0m | \u001b[0m-0.002967\u001b[0m | \u001b[0m 0.1004  \u001b[0m | \u001b[0m 3.584   \u001b[0m | \u001b[0m 18.81   \u001b[0m | \u001b[0m 299.1   \u001b[0m | \u001b[0m 0.01995 \u001b[0m | \u001b[0m 2.079   \u001b[0m | \u001b[0m 0.6418  \u001b[0m |\n",
      "| \u001b[0m 19      \u001b[0m | \u001b[0m-0.003489\u001b[0m | \u001b[0m 0.3475  \u001b[0m | \u001b[0m 9.424   \u001b[0m | \u001b[0m 19.0    \u001b[0m | \u001b[0m 298.6   \u001b[0m | \u001b[0m 29.79   \u001b[0m | \u001b[0m 36.91   \u001b[0m | \u001b[0m 0.6905  \u001b[0m |\n",
      "| \u001b[95m 20      \u001b[0m | \u001b[95m-0.002776\u001b[0m | \u001b[95m 0.1704  \u001b[0m | \u001b[95m 6.942   \u001b[0m | \u001b[95m 1.61    \u001b[0m | \u001b[95m 102.3   \u001b[0m | \u001b[95m 1.295   \u001b[0m | \u001b[95m 1.125   \u001b[0m | \u001b[95m 0.7144  \u001b[0m |\n",
      "| \u001b[0m 21      \u001b[0m | \u001b[0m-0.003602\u001b[0m | \u001b[0m 0.3645  \u001b[0m | \u001b[0m 9.559   \u001b[0m | \u001b[0m 1.569   \u001b[0m | \u001b[0m 297.3   \u001b[0m | \u001b[0m 0.1308  \u001b[0m | \u001b[0m 1.011   \u001b[0m | \u001b[0m 0.862   \u001b[0m |\n",
      "| \u001b[0m 22      \u001b[0m | \u001b[0m-0.002972\u001b[0m | \u001b[0m 0.1139  \u001b[0m | \u001b[0m 9.438   \u001b[0m | \u001b[0m 0.244   \u001b[0m | \u001b[0m 100.2   \u001b[0m | \u001b[0m 0.2557  \u001b[0m | \u001b[0m 0.4712  \u001b[0m | \u001b[0m 0.7396  \u001b[0m |\n",
      "| \u001b[95m 23      \u001b[0m | \u001b[95m-0.00272 \u001b[0m | \u001b[95m 0.1804  \u001b[0m | \u001b[95m 4.004   \u001b[0m | \u001b[95m 0.1784  \u001b[0m | \u001b[95m 104.5   \u001b[0m | \u001b[95m 0.3027  \u001b[0m | \u001b[95m 38.48   \u001b[0m | \u001b[95m 0.885   \u001b[0m |\n",
      "| \u001b[0m 24      \u001b[0m | \u001b[0m-0.003255\u001b[0m | \u001b[0m 0.1672  \u001b[0m | \u001b[0m 7.149   \u001b[0m | \u001b[0m 18.15   \u001b[0m | \u001b[0m 100.2   \u001b[0m | \u001b[0m 0.08787 \u001b[0m | \u001b[0m 38.84   \u001b[0m | \u001b[0m 0.5238  \u001b[0m |\n",
      "| \u001b[95m 25      \u001b[0m | \u001b[95m-0.002637\u001b[0m | \u001b[95m 0.2852  \u001b[0m | \u001b[95m 3.734   \u001b[0m | \u001b[95m 2.18    \u001b[0m | \u001b[95m 298.2   \u001b[0m | \u001b[95m 0.03807 \u001b[0m | \u001b[95m 37.89   \u001b[0m | \u001b[95m 0.6537  \u001b[0m |\n",
      "| \u001b[0m 26      \u001b[0m | \u001b[0m-0.003252\u001b[0m | \u001b[0m 0.4447  \u001b[0m | \u001b[0m 8.761   \u001b[0m | \u001b[0m 19.54   \u001b[0m | \u001b[0m 101.4   \u001b[0m | \u001b[0m 0.08773 \u001b[0m | \u001b[0m 0.2897  \u001b[0m | \u001b[0m 0.5103  \u001b[0m |\n",
      "| \u001b[0m 27      \u001b[0m | \u001b[0m-0.003107\u001b[0m | \u001b[0m 0.1298  \u001b[0m | \u001b[0m 3.265   \u001b[0m | \u001b[0m 19.9    \u001b[0m | \u001b[0m 298.8   \u001b[0m | \u001b[0m 0.9671  \u001b[0m | \u001b[0m 39.92   \u001b[0m | \u001b[0m 0.619   \u001b[0m |\n",
      "| \u001b[0m 28      \u001b[0m | \u001b[0m-0.002694\u001b[0m | \u001b[0m 0.1749  \u001b[0m | \u001b[0m 8.061   \u001b[0m | \u001b[0m 0.5959  \u001b[0m | \u001b[0m 106.4   \u001b[0m | \u001b[0m 0.7301  \u001b[0m | \u001b[0m 39.41   \u001b[0m | \u001b[0m 0.9437  \u001b[0m |\n",
      "| \u001b[0m 29      \u001b[0m | \u001b[0m-0.002704\u001b[0m | \u001b[0m 0.06204 \u001b[0m | \u001b[0m 9.932   \u001b[0m | \u001b[0m 0.6656  \u001b[0m | \u001b[0m 297.6   \u001b[0m | \u001b[0m 0.07709 \u001b[0m | \u001b[0m 38.21   \u001b[0m | \u001b[0m 0.98    \u001b[0m |\n",
      "| \u001b[0m 30      \u001b[0m | \u001b[0m-0.003249\u001b[0m | \u001b[0m 0.4632  \u001b[0m | \u001b[0m 4.945   \u001b[0m | \u001b[0m 0.8739  \u001b[0m | \u001b[0m 298.7   \u001b[0m | \u001b[0m 1.018   \u001b[0m | \u001b[0m 1.259   \u001b[0m | \u001b[0m 0.5511  \u001b[0m |\n",
      "| \u001b[0m 31      \u001b[0m | \u001b[0m-0.009653\u001b[0m | \u001b[0m 0.03919 \u001b[0m | \u001b[0m 4.616   \u001b[0m | \u001b[0m 2.001   \u001b[0m | \u001b[0m 109.8   \u001b[0m | \u001b[0m 0.07403 \u001b[0m | \u001b[0m 39.13   \u001b[0m | \u001b[0m 0.9602  \u001b[0m |\n",
      "| \u001b[0m 32      \u001b[0m | \u001b[0m-0.003568\u001b[0m | \u001b[0m 0.3693  \u001b[0m | \u001b[0m 7.02    \u001b[0m | \u001b[0m 19.0    \u001b[0m | \u001b[0m 298.6   \u001b[0m | \u001b[0m 29.66   \u001b[0m | \u001b[0m 0.9362  \u001b[0m | \u001b[0m 0.513   \u001b[0m |\n",
      "| \u001b[0m 33      \u001b[0m | \u001b[0m-0.003504\u001b[0m | \u001b[0m 0.1873  \u001b[0m | \u001b[0m 6.294   \u001b[0m | \u001b[0m 15.87   \u001b[0m | \u001b[0m 300.0   \u001b[0m | \u001b[0m 29.68   \u001b[0m | \u001b[0m 0.5558  \u001b[0m | \u001b[0m 0.6187  \u001b[0m |\n",
      "| \u001b[0m 34      \u001b[0m | \u001b[0m-0.003284\u001b[0m | \u001b[0m 0.446   \u001b[0m | \u001b[0m 9.985   \u001b[0m | \u001b[0m 0.3543  \u001b[0m | \u001b[0m 298.8   \u001b[0m | \u001b[0m 28.62   \u001b[0m | \u001b[0m 1.066   \u001b[0m | \u001b[0m 0.6098  \u001b[0m |\n",
      "| \u001b[0m 35      \u001b[0m | \u001b[0m-0.003408\u001b[0m | \u001b[0m 0.1093  \u001b[0m | \u001b[0m 7.019   \u001b[0m | \u001b[0m 19.52   \u001b[0m | \u001b[0m 298.9   \u001b[0m | \u001b[0m 29.79   \u001b[0m | \u001b[0m 1.689   \u001b[0m | \u001b[0m 0.8591  \u001b[0m |\n",
      "| \u001b[0m 36      \u001b[0m | \u001b[0m-0.00342 \u001b[0m | \u001b[0m 0.02597 \u001b[0m | \u001b[0m 5.622   \u001b[0m | \u001b[0m 18.08   \u001b[0m | \u001b[0m 299.8   \u001b[0m | \u001b[0m 1.112   \u001b[0m | \u001b[0m 0.4801  \u001b[0m | \u001b[0m 0.5244  \u001b[0m |\n",
      "| \u001b[0m 37      \u001b[0m | \u001b[0m-0.003195\u001b[0m | \u001b[0m 0.4664  \u001b[0m | \u001b[0m 9.379   \u001b[0m | \u001b[0m 0.2068  \u001b[0m | \u001b[0m 299.0   \u001b[0m | \u001b[0m 27.28   \u001b[0m | \u001b[0m 0.07088 \u001b[0m | \u001b[0m 0.912   \u001b[0m |\n",
      "| \u001b[0m 38      \u001b[0m | \u001b[0m-0.003516\u001b[0m | \u001b[0m 0.4232  \u001b[0m | \u001b[0m 4.429   \u001b[0m | \u001b[0m 19.49   \u001b[0m | \u001b[0m 299.7   \u001b[0m | \u001b[0m 29.39   \u001b[0m | \u001b[0m 36.58   \u001b[0m | \u001b[0m 0.5923  \u001b[0m |\n",
      "| \u001b[0m 39      \u001b[0m | \u001b[0m-0.003009\u001b[0m | \u001b[0m 0.4375  \u001b[0m | \u001b[0m 8.204   \u001b[0m | \u001b[0m 19.26   \u001b[0m | \u001b[0m 299.1   \u001b[0m | \u001b[0m 2.157   \u001b[0m | \u001b[0m 1.416   \u001b[0m | \u001b[0m 0.7083  \u001b[0m |\n",
      "| \u001b[0m 40      \u001b[0m | \u001b[0m-0.002941\u001b[0m | \u001b[0m 0.3337  \u001b[0m | \u001b[0m 9.257   \u001b[0m | \u001b[0m 19.74   \u001b[0m | \u001b[0m 295.8   \u001b[0m | \u001b[0m 2.253   \u001b[0m | \u001b[0m 0.2903  \u001b[0m | \u001b[0m 0.7813  \u001b[0m |\n",
      "| \u001b[0m 41      \u001b[0m | \u001b[0m-0.002935\u001b[0m | \u001b[0m 0.4308  \u001b[0m | \u001b[0m 7.243   \u001b[0m | \u001b[0m 18.89   \u001b[0m | \u001b[0m 297.6   \u001b[0m | \u001b[0m 0.2731  \u001b[0m | \u001b[0m 0.4436  \u001b[0m | \u001b[0m 0.9611  \u001b[0m |\n",
      "| \u001b[0m 42      \u001b[0m | \u001b[0m-0.003365\u001b[0m | \u001b[0m 0.1466  \u001b[0m | \u001b[0m 9.554   \u001b[0m | \u001b[0m 0.5808  \u001b[0m | \u001b[0m 297.7   \u001b[0m | \u001b[0m 30.0    \u001b[0m | \u001b[0m 0.1985  \u001b[0m | \u001b[0m 0.5871  \u001b[0m |\n",
      "| \u001b[0m 43      \u001b[0m | \u001b[0m-0.003529\u001b[0m | \u001b[0m 0.06588 \u001b[0m | \u001b[0m 5.972   \u001b[0m | \u001b[0m 18.13   \u001b[0m | \u001b[0m 298.8   \u001b[0m | \u001b[0m 29.19   \u001b[0m | \u001b[0m 39.85   \u001b[0m | \u001b[0m 0.6827  \u001b[0m |\n",
      "| \u001b[0m 44      \u001b[0m | \u001b[0m-0.003383\u001b[0m | \u001b[0m 0.4623  \u001b[0m | \u001b[0m 4.099   \u001b[0m | \u001b[0m 0.2402  \u001b[0m | \u001b[0m 298.6   \u001b[0m | \u001b[0m 0.8578  \u001b[0m | \u001b[0m 1.899   \u001b[0m | \u001b[0m 0.5734  \u001b[0m |\n"
     ]
    },
    {
     "name": "stdout",
     "output_type": "stream",
     "text": [
      "| \u001b[0m 45      \u001b[0m | \u001b[0m-0.003115\u001b[0m | \u001b[0m 0.22    \u001b[0m | \u001b[0m 8.748   \u001b[0m | \u001b[0m 19.86   \u001b[0m | \u001b[0m 297.0   \u001b[0m | \u001b[0m 2.412   \u001b[0m | \u001b[0m 0.6026  \u001b[0m | \u001b[0m 0.5202  \u001b[0m |\n",
      "| \u001b[0m 46      \u001b[0m | \u001b[0m-0.002983\u001b[0m | \u001b[0m 0.4051  \u001b[0m | \u001b[0m 4.917   \u001b[0m | \u001b[0m 19.95   \u001b[0m | \u001b[0m 297.9   \u001b[0m | \u001b[0m 0.4772  \u001b[0m | \u001b[0m 1.954   \u001b[0m | \u001b[0m 0.8087  \u001b[0m |\n",
      "| \u001b[0m 47      \u001b[0m | \u001b[0m-0.003215\u001b[0m | \u001b[0m 0.4076  \u001b[0m | \u001b[0m 4.515   \u001b[0m | \u001b[0m 0.1758  \u001b[0m | \u001b[0m 294.0   \u001b[0m | \u001b[0m 29.52   \u001b[0m | \u001b[0m 0.7905  \u001b[0m | \u001b[0m 0.9097  \u001b[0m |\n",
      "| \u001b[0m 48      \u001b[0m | \u001b[0m-0.003379\u001b[0m | \u001b[0m 0.0221  \u001b[0m | \u001b[0m 3.389   \u001b[0m | \u001b[0m 0.2419  \u001b[0m | \u001b[0m 299.3   \u001b[0m | \u001b[0m 2.586   \u001b[0m | \u001b[0m 0.251   \u001b[0m | \u001b[0m 0.9326  \u001b[0m |\n",
      "| \u001b[0m 49      \u001b[0m | \u001b[0m-0.003368\u001b[0m | \u001b[0m 0.2971  \u001b[0m | \u001b[0m 9.767   \u001b[0m | \u001b[0m 19.48   \u001b[0m | \u001b[0m 295.9   \u001b[0m | \u001b[0m 29.48   \u001b[0m | \u001b[0m 38.8    \u001b[0m | \u001b[0m 0.9225  \u001b[0m |\n",
      "| \u001b[0m 50      \u001b[0m | \u001b[0m-0.003531\u001b[0m | \u001b[0m 0.201   \u001b[0m | \u001b[0m 6.321   \u001b[0m | \u001b[0m 20.0    \u001b[0m | \u001b[0m 100.0   \u001b[0m | \u001b[0m 26.88   \u001b[0m | \u001b[0m 0.1521  \u001b[0m | \u001b[0m 0.5844  \u001b[0m |\n",
      "| \u001b[0m 51      \u001b[0m | \u001b[0m-0.002965\u001b[0m | \u001b[0m 0.4744  \u001b[0m | \u001b[0m 5.679   \u001b[0m | \u001b[0m 18.13   \u001b[0m | \u001b[0m 298.0   \u001b[0m | \u001b[0m 0.3357  \u001b[0m | \u001b[0m 0.9729  \u001b[0m | \u001b[0m 0.9049  \u001b[0m |\n",
      "| \u001b[0m 52      \u001b[0m | \u001b[0m-0.003151\u001b[0m | \u001b[0m 0.1357  \u001b[0m | \u001b[0m 7.949   \u001b[0m | \u001b[0m 19.31   \u001b[0m | \u001b[0m 298.3   \u001b[0m | \u001b[0m 1.319   \u001b[0m | \u001b[0m 39.88   \u001b[0m | \u001b[0m 0.5425  \u001b[0m |\n",
      "| \u001b[0m 53      \u001b[0m | \u001b[0m-0.002997\u001b[0m | \u001b[0m 0.07606 \u001b[0m | \u001b[0m 9.815   \u001b[0m | \u001b[0m 19.35   \u001b[0m | \u001b[0m 296.9   \u001b[0m | \u001b[0m 1.257   \u001b[0m | \u001b[0m 2.256   \u001b[0m | \u001b[0m 0.6847  \u001b[0m |\n",
      "| \u001b[0m 54      \u001b[0m | \u001b[0m-0.003511\u001b[0m | \u001b[0m 0.3214  \u001b[0m | \u001b[0m 3.231   \u001b[0m | \u001b[0m 18.79   \u001b[0m | \u001b[0m 298.4   \u001b[0m | \u001b[0m 29.59   \u001b[0m | \u001b[0m 0.2901  \u001b[0m | \u001b[0m 0.6424  \u001b[0m |\n",
      "| \u001b[0m 55      \u001b[0m | \u001b[0m-0.003241\u001b[0m | \u001b[0m 0.3423  \u001b[0m | \u001b[0m 8.642   \u001b[0m | \u001b[0m 0.885   \u001b[0m | \u001b[0m 298.1   \u001b[0m | \u001b[0m 0.748   \u001b[0m | \u001b[0m 0.1521  \u001b[0m | \u001b[0m 0.5587  \u001b[0m |\n",
      "| \u001b[0m 56      \u001b[0m | \u001b[0m-0.002873\u001b[0m | \u001b[0m 0.2474  \u001b[0m | \u001b[0m 8.643   \u001b[0m | \u001b[0m 19.54   \u001b[0m | \u001b[0m 298.9   \u001b[0m | \u001b[0m 2.153   \u001b[0m | \u001b[0m 39.25   \u001b[0m | \u001b[0m 0.8515  \u001b[0m |\n",
      "| \u001b[0m 57      \u001b[0m | \u001b[0m-0.002849\u001b[0m | \u001b[0m 0.2658  \u001b[0m | \u001b[0m 9.328   \u001b[0m | \u001b[0m 18.79   \u001b[0m | \u001b[0m 299.1   \u001b[0m | \u001b[0m 0.651   \u001b[0m | \u001b[0m 39.91   \u001b[0m | \u001b[0m 0.8248  \u001b[0m |\n",
      "| \u001b[0m 58      \u001b[0m | \u001b[0m-0.002754\u001b[0m | \u001b[0m 0.1327  \u001b[0m | \u001b[0m 9.776   \u001b[0m | \u001b[0m 18.89   \u001b[0m | \u001b[0m 294.9   \u001b[0m | \u001b[0m 0.5269  \u001b[0m | \u001b[0m 0.02723 \u001b[0m | \u001b[0m 0.9173  \u001b[0m |\n",
      "| \u001b[0m 59      \u001b[0m | \u001b[0m-0.004519\u001b[0m | \u001b[0m 0.02018 \u001b[0m | \u001b[0m 3.061   \u001b[0m | \u001b[0m 19.87   \u001b[0m | \u001b[0m 290.1   \u001b[0m | \u001b[0m 0.02782 \u001b[0m | \u001b[0m 2.041   \u001b[0m | \u001b[0m 0.5244  \u001b[0m |\n",
      "| \u001b[0m 60      \u001b[0m | \u001b[0m-0.003396\u001b[0m | \u001b[0m 0.2363  \u001b[0m | \u001b[0m 9.607   \u001b[0m | \u001b[0m 2.227   \u001b[0m | \u001b[0m 294.3   \u001b[0m | \u001b[0m 28.56   \u001b[0m | \u001b[0m 39.94   \u001b[0m | \u001b[0m 0.5176  \u001b[0m |\n",
      "| \u001b[0m 61      \u001b[0m | \u001b[0m-0.002639\u001b[0m | \u001b[0m 0.1078  \u001b[0m | \u001b[0m 9.653   \u001b[0m | \u001b[0m 0.37    \u001b[0m | \u001b[0m 299.2   \u001b[0m | \u001b[0m 1.498   \u001b[0m | \u001b[0m 39.83   \u001b[0m | \u001b[0m 0.6597  \u001b[0m |\n",
      "| \u001b[0m 62      \u001b[0m | \u001b[0m-0.003489\u001b[0m | \u001b[0m 0.2061  \u001b[0m | \u001b[0m 3.814   \u001b[0m | \u001b[0m 19.26   \u001b[0m | \u001b[0m 299.7   \u001b[0m | \u001b[0m 29.05   \u001b[0m | \u001b[0m 38.14   \u001b[0m | \u001b[0m 0.6811  \u001b[0m |\n",
      "| \u001b[0m 63      \u001b[0m | \u001b[0m-0.003013\u001b[0m | \u001b[0m 0.3417  \u001b[0m | \u001b[0m 9.989   \u001b[0m | \u001b[0m 19.53   \u001b[0m | \u001b[0m 299.9   \u001b[0m | \u001b[0m 0.4929  \u001b[0m | \u001b[0m 39.89   \u001b[0m | \u001b[0m 0.686   \u001b[0m |\n",
      "| \u001b[0m 64      \u001b[0m | \u001b[0m-0.002673\u001b[0m | \u001b[0m 0.2787  \u001b[0m | \u001b[0m 8.036   \u001b[0m | \u001b[0m 0.8463  \u001b[0m | \u001b[0m 298.5   \u001b[0m | \u001b[0m 2.212   \u001b[0m | \u001b[0m 39.59   \u001b[0m | \u001b[0m 0.5857  \u001b[0m |\n",
      "| \u001b[95m 65      \u001b[0m | \u001b[95m-0.002619\u001b[0m | \u001b[95m 0.1658  \u001b[0m | \u001b[95m 9.806   \u001b[0m | \u001b[95m 1.247   \u001b[0m | \u001b[95m 297.6   \u001b[0m | \u001b[95m 2.155   \u001b[0m | \u001b[95m 38.03   \u001b[0m | \u001b[95m 0.6091  \u001b[0m |\n",
      "=============================================================================================================\n",
      "73.27 minutes\n"
     ]
    }
   ],
   "source": [
    "start_time = time.time() #This takes about 73 mins on our machine using 8 cores\n",
    "model_type['model'] ='XGboost'\n",
    "xgb_optimizer = hyperparameter_tuning(model_results_cv, xgb_param_dict)\n",
    "print(\"%.2f minutes\" % (int(time.time() - start_time)/60))"
   ]
  },
  {
   "cell_type": "code",
   "execution_count": 18,
   "metadata": {
    "scrolled": true
   },
   "outputs": [
    {
     "name": "stdout",
     "output_type": "stream",
     "text": [
      "|   iter    |  target   | learni... | max_depth | min_ch... | num_bo... | reg_alpha | reg_la... | subsample |\n",
      "-------------------------------------------------------------------------------------------------------------\n",
      "| \u001b[0m 1       \u001b[0m | \u001b[0m-0.003188\u001b[0m | \u001b[0m 0.1267  \u001b[0m | \u001b[0m 45.59   \u001b[0m | \u001b[0m 3.316   \u001b[0m | \u001b[0m 108.9   \u001b[0m | \u001b[0m 16.35   \u001b[0m | \u001b[0m 29.75   \u001b[0m | \u001b[0m 0.7857  \u001b[0m |\n",
      "| \u001b[0m 2       \u001b[0m | \u001b[0m-0.003302\u001b[0m | \u001b[0m 0.2947  \u001b[0m | \u001b[0m 758.4   \u001b[0m | \u001b[0m 8.252   \u001b[0m | \u001b[0m 194.7   \u001b[0m | \u001b[0m 21.36   \u001b[0m | \u001b[0m 8.717   \u001b[0m | \u001b[0m 0.634   \u001b[0m |\n",
      "| \u001b[0m 3       \u001b[0m | \u001b[0m-0.003466\u001b[0m | \u001b[0m 0.1991  \u001b[0m | \u001b[0m 815.1   \u001b[0m | \u001b[0m 18.56   \u001b[0m | \u001b[0m 114.7   \u001b[0m | \u001b[0m 26.08   \u001b[0m | \u001b[0m 4.932   \u001b[0m | \u001b[0m 0.7492  \u001b[0m |\n",
      "| \u001b[0m 4       \u001b[0m | \u001b[0m-0.003255\u001b[0m | \u001b[0m 0.2957  \u001b[0m | \u001b[0m 869.0   \u001b[0m | \u001b[0m 3.971   \u001b[0m | \u001b[0m 100.6   \u001b[0m | \u001b[0m 21.66   \u001b[0m | \u001b[0m 30.83   \u001b[0m | \u001b[0m 0.7681  \u001b[0m |\n",
      "| \u001b[95m 5       \u001b[0m | \u001b[95m-0.002971\u001b[0m | \u001b[95m 0.3284  \u001b[0m | \u001b[95m 80.39   \u001b[0m | \u001b[95m 4.461   \u001b[0m | \u001b[95m 112.7   \u001b[0m | \u001b[95m 11.54   \u001b[0m | \u001b[95m 38.3    \u001b[0m | \u001b[95m 0.9418  \u001b[0m |\n",
      "| \u001b[0m 6       \u001b[0m | \u001b[0m-0.003391\u001b[0m | \u001b[0m 0.1414  \u001b[0m | \u001b[0m 792.9   \u001b[0m | \u001b[0m 0.714   \u001b[0m | \u001b[0m 286.8   \u001b[0m | \u001b[0m 28.9    \u001b[0m | \u001b[0m 5.278   \u001b[0m | \u001b[0m 0.6448  \u001b[0m |\n",
      "| \u001b[0m 7       \u001b[0m | \u001b[0m-0.003288\u001b[0m | \u001b[0m 0.4917  \u001b[0m | \u001b[0m 152.4   \u001b[0m | \u001b[0m 15.25   \u001b[0m | \u001b[0m 219.0   \u001b[0m | \u001b[0m 20.31   \u001b[0m | \u001b[0m 25.01   \u001b[0m | \u001b[0m 0.9159  \u001b[0m |\n",
      "| \u001b[0m 8       \u001b[0m | \u001b[0m-0.003181\u001b[0m | \u001b[0m 0.2977  \u001b[0m | \u001b[0m 665.1   \u001b[0m | \u001b[0m 9.699   \u001b[0m | \u001b[0m 194.0   \u001b[0m | \u001b[0m 17.03   \u001b[0m | \u001b[0m 32.69   \u001b[0m | \u001b[0m 0.9635  \u001b[0m |\n",
      "| \u001b[0m 9       \u001b[0m | \u001b[0m-0.003302\u001b[0m | \u001b[0m 0.2422  \u001b[0m | \u001b[0m 629.8   \u001b[0m | \u001b[0m 16.91   \u001b[0m | \u001b[0m 114.0   \u001b[0m | \u001b[0m 17.17   \u001b[0m | \u001b[0m 24.9    \u001b[0m | \u001b[0m 0.7705  \u001b[0m |\n",
      "| \u001b[0m 10      \u001b[0m | \u001b[0m-0.00338 \u001b[0m | \u001b[0m 0.2959  \u001b[0m | \u001b[0m 311.5   \u001b[0m | \u001b[0m 18.41   \u001b[0m | \u001b[0m 160.9   \u001b[0m | \u001b[0m 15.61   \u001b[0m | \u001b[0m 26.65   \u001b[0m | \u001b[0m 0.5297  \u001b[0m |\n",
      "| \u001b[0m 11      \u001b[0m | \u001b[0m-0.003412\u001b[0m | \u001b[0m 0.07836 \u001b[0m | \u001b[0m 302.8   \u001b[0m | \u001b[0m 7.027   \u001b[0m | \u001b[0m 182.5   \u001b[0m | \u001b[0m 28.16   \u001b[0m | \u001b[0m 38.39   \u001b[0m | \u001b[0m 0.7905  \u001b[0m |\n",
      "| \u001b[0m 12      \u001b[0m | \u001b[0m-0.003134\u001b[0m | \u001b[0m 0.1181  \u001b[0m | \u001b[0m 926.9   \u001b[0m | \u001b[0m 12.33   \u001b[0m | \u001b[0m 149.7   \u001b[0m | \u001b[0m 7.358   \u001b[0m | \u001b[0m 25.2    \u001b[0m | \u001b[0m 0.688   \u001b[0m |\n",
      "| \u001b[0m 13      \u001b[0m | \u001b[0m-0.003101\u001b[0m | \u001b[0m 0.08546 \u001b[0m | \u001b[0m 738.0   \u001b[0m | \u001b[0m 12.76   \u001b[0m | \u001b[0m 249.3   \u001b[0m | \u001b[0m 10.96   \u001b[0m | \u001b[0m 2.141   \u001b[0m | \u001b[0m 0.6492  \u001b[0m |\n",
      "| \u001b[0m 14      \u001b[0m | \u001b[0m-0.003271\u001b[0m | \u001b[0m 0.4635  \u001b[0m | \u001b[0m 563.2   \u001b[0m | \u001b[0m 19.13   \u001b[0m | \u001b[0m 130.2   \u001b[0m | \u001b[0m 17.37   \u001b[0m | \u001b[0m 1.926   \u001b[0m | \u001b[0m 0.9777  \u001b[0m |\n",
      "| \u001b[0m 15      \u001b[0m | \u001b[0m-0.003271\u001b[0m | \u001b[0m 0.3797  \u001b[0m | \u001b[0m 892.5   \u001b[0m | \u001b[0m 3.693   \u001b[0m | \u001b[0m 262.6   \u001b[0m | \u001b[0m 23.99   \u001b[0m | \u001b[0m 16.1    \u001b[0m | \u001b[0m 0.703   \u001b[0m |\n",
      "| \u001b[0m 16      \u001b[0m | \u001b[0m-0.003048\u001b[0m | \u001b[0m 0.2647  \u001b[0m | \u001b[0m 12.91   \u001b[0m | \u001b[0m 17.88   \u001b[0m | \u001b[0m 299.5   \u001b[0m | \u001b[0m 6.82    \u001b[0m | \u001b[0m 37.24   \u001b[0m | \u001b[0m 0.7372  \u001b[0m |\n",
      "| \u001b[95m 17      \u001b[0m | \u001b[95m-0.002834\u001b[0m | \u001b[95m 0.2229  \u001b[0m | \u001b[95m 35.92   \u001b[0m | \u001b[95m 7.511   \u001b[0m | \u001b[95m 299.7   \u001b[0m | \u001b[95m 0.86    \u001b[0m | \u001b[95m 1.283   \u001b[0m | \u001b[95m 0.586   \u001b[0m |\n",
      "| \u001b[95m 18      \u001b[0m | \u001b[95m-0.002695\u001b[0m | \u001b[95m 0.1253  \u001b[0m | \u001b[95m 1.011e+0\u001b[0m | \u001b[95m 1.973   \u001b[0m | \u001b[95m 298.7   \u001b[0m | \u001b[95m 2.251   \u001b[0m | \u001b[95m 33.71   \u001b[0m | \u001b[95m 0.6267  \u001b[0m |\n",
      "| \u001b[0m 19      \u001b[0m | \u001b[0m-0.003128\u001b[0m | \u001b[0m 0.457   \u001b[0m | \u001b[0m 12.92   \u001b[0m | \u001b[0m 4.386   \u001b[0m | \u001b[0m 299.0   \u001b[0m | \u001b[0m 2.604   \u001b[0m | \u001b[0m 0.01845 \u001b[0m | \u001b[0m 0.5532  \u001b[0m |\n",
      "| \u001b[0m 20      \u001b[0m | \u001b[0m-0.002983\u001b[0m | \u001b[0m 0.07521 \u001b[0m | \u001b[0m 988.0   \u001b[0m | \u001b[0m 15.51   \u001b[0m | \u001b[0m 298.8   \u001b[0m | \u001b[0m 0.4022  \u001b[0m | \u001b[0m 39.69   \u001b[0m | \u001b[0m 0.8535  \u001b[0m |\n",
      "| \u001b[0m 21      \u001b[0m | \u001b[0m-0.003497\u001b[0m | \u001b[0m 0.1699  \u001b[0m | \u001b[0m 14.48   \u001b[0m | \u001b[0m 9.267   \u001b[0m | \u001b[0m 298.6   \u001b[0m | \u001b[0m 28.15   \u001b[0m | \u001b[0m 38.74   \u001b[0m | \u001b[0m 0.6207  \u001b[0m |\n",
      "| \u001b[0m 22      \u001b[0m | \u001b[0m-0.00308 \u001b[0m | \u001b[0m 0.4534  \u001b[0m | \u001b[0m 1.024e+0\u001b[0m | \u001b[0m 19.5    \u001b[0m | \u001b[0m 293.6   \u001b[0m | \u001b[0m 6.993   \u001b[0m | \u001b[0m 37.25   \u001b[0m | \u001b[0m 0.7323  \u001b[0m |\n",
      "| \u001b[0m 23      \u001b[0m | \u001b[0m-0.002851\u001b[0m | \u001b[0m 0.3691  \u001b[0m | \u001b[0m 1.02e+03\u001b[0m | \u001b[0m 6.457   \u001b[0m | \u001b[0m 101.5   \u001b[0m | \u001b[0m 1.537   \u001b[0m | \u001b[0m 0.8906  \u001b[0m | \u001b[0m 0.5269  \u001b[0m |\n",
      "| \u001b[0m 24      \u001b[0m | \u001b[0m-0.002732\u001b[0m | \u001b[0m 0.1896  \u001b[0m | \u001b[0m 15.82   \u001b[0m | \u001b[0m 1.688   \u001b[0m | \u001b[0m 104.4   \u001b[0m | \u001b[0m 2.094   \u001b[0m | \u001b[0m 2.92    \u001b[0m | \u001b[0m 0.7133  \u001b[0m |\n",
      "| \u001b[0m 25      \u001b[0m | \u001b[0m-0.002767\u001b[0m | \u001b[0m 0.09743 \u001b[0m | \u001b[0m 39.39   \u001b[0m | \u001b[0m 2.407   \u001b[0m | \u001b[0m 101.2   \u001b[0m | \u001b[0m 0.3018  \u001b[0m | \u001b[0m 0.9518  \u001b[0m | \u001b[0m 0.8245  \u001b[0m |\n",
      "| \u001b[0m 26      \u001b[0m | \u001b[0m-0.003055\u001b[0m | \u001b[0m 0.1659  \u001b[0m | \u001b[0m 11.84   \u001b[0m | \u001b[0m 17.89   \u001b[0m | \u001b[0m 292.7   \u001b[0m | \u001b[0m 1.622   \u001b[0m | \u001b[0m 1.708   \u001b[0m | \u001b[0m 0.5334  \u001b[0m |\n",
      "| \u001b[0m 27      \u001b[0m | \u001b[0m-0.002751\u001b[0m | \u001b[0m 0.2417  \u001b[0m | \u001b[0m 1.014e+0\u001b[0m | \u001b[0m 0.8415  \u001b[0m | \u001b[0m 101.6   \u001b[0m | \u001b[0m 1.359   \u001b[0m | \u001b[0m 35.64   \u001b[0m | \u001b[0m 0.545   \u001b[0m |\n",
      "| \u001b[0m 28      \u001b[0m | \u001b[0m-0.002925\u001b[0m | \u001b[0m 0.07195 \u001b[0m | \u001b[0m 1.002e+0\u001b[0m | \u001b[0m 1.102   \u001b[0m | \u001b[0m 291.2   \u001b[0m | \u001b[0m 1.125   \u001b[0m | \u001b[0m 0.1899  \u001b[0m | \u001b[0m 0.7932  \u001b[0m |\n",
      "| \u001b[0m 29      \u001b[0m | \u001b[0m-0.01725 \u001b[0m | \u001b[0m 0.03381 \u001b[0m | \u001b[0m 49.84   \u001b[0m | \u001b[0m 0.4896  \u001b[0m | \u001b[0m 105.4   \u001b[0m | \u001b[0m 1.602   \u001b[0m | \u001b[0m 39.76   \u001b[0m | \u001b[0m 0.7302  \u001b[0m |\n",
      "| \u001b[0m 30      \u001b[0m | \u001b[0m-0.003511\u001b[0m | \u001b[0m 0.2189  \u001b[0m | \u001b[0m 218.1   \u001b[0m | \u001b[0m 6.283   \u001b[0m | \u001b[0m 100.8   \u001b[0m | \u001b[0m 29.36   \u001b[0m | \u001b[0m 2.485   \u001b[0m | \u001b[0m 0.5853  \u001b[0m |\n",
      "| \u001b[0m 31      \u001b[0m | \u001b[0m-0.003572\u001b[0m | \u001b[0m 0.3627  \u001b[0m | \u001b[0m 15.78   \u001b[0m | \u001b[0m 18.17   \u001b[0m | \u001b[0m 143.7   \u001b[0m | \u001b[0m 29.88   \u001b[0m | \u001b[0m 2.777   \u001b[0m | \u001b[0m 0.5918  \u001b[0m |\n",
      "| \u001b[0m 32      \u001b[0m | \u001b[0m-0.003522\u001b[0m | \u001b[0m 0.4143  \u001b[0m | \u001b[0m 1.013e+0\u001b[0m | \u001b[0m 19.87   \u001b[0m | \u001b[0m 281.9   \u001b[0m | \u001b[0m 28.69   \u001b[0m | \u001b[0m 2.355   \u001b[0m | \u001b[0m 0.6296  \u001b[0m |\n",
      "| \u001b[0m 33      \u001b[0m | \u001b[0m-0.003375\u001b[0m | \u001b[0m 0.146   \u001b[0m | \u001b[0m 1.013e+0\u001b[0m | \u001b[0m 19.44   \u001b[0m | \u001b[0m 281.1   \u001b[0m | \u001b[0m 24.64   \u001b[0m | \u001b[0m 0.1162  \u001b[0m | \u001b[0m 0.9892  \u001b[0m |\n",
      "| \u001b[0m 34      \u001b[0m | \u001b[0m-0.003486\u001b[0m | \u001b[0m 0.2768  \u001b[0m | \u001b[0m 954.6   \u001b[0m | \u001b[0m 17.17   \u001b[0m | \u001b[0m 294.8   \u001b[0m | \u001b[0m 29.53   \u001b[0m | \u001b[0m 0.7063  \u001b[0m | \u001b[0m 0.7442  \u001b[0m |\n",
      "| \u001b[0m 35      \u001b[0m | \u001b[0m-0.003402\u001b[0m | \u001b[0m 0.4686  \u001b[0m | \u001b[0m 235.1   \u001b[0m | \u001b[0m 3.651   \u001b[0m | \u001b[0m 298.1   \u001b[0m | \u001b[0m 28.06   \u001b[0m | \u001b[0m 0.1345  \u001b[0m | \u001b[0m 0.5808  \u001b[0m |\n",
      "| \u001b[0m 36      \u001b[0m | \u001b[0m-0.003426\u001b[0m | \u001b[0m 0.4949  \u001b[0m | \u001b[0m 968.3   \u001b[0m | \u001b[0m 18.63   \u001b[0m | \u001b[0m 294.2   \u001b[0m | \u001b[0m 29.92   \u001b[0m | \u001b[0m 2.49    \u001b[0m | \u001b[0m 0.8787  \u001b[0m |\n",
      "| \u001b[0m 37      \u001b[0m | \u001b[0m-0.003453\u001b[0m | \u001b[0m 0.1401  \u001b[0m | \u001b[0m 1.012e+0\u001b[0m | \u001b[0m 18.97   \u001b[0m | \u001b[0m 296.9   \u001b[0m | \u001b[0m 29.65   \u001b[0m | \u001b[0m 3.9     \u001b[0m | \u001b[0m 0.924   \u001b[0m |\n",
      "| \u001b[0m 38      \u001b[0m | \u001b[0m-0.004694\u001b[0m | \u001b[0m 0.02048 \u001b[0m | \u001b[0m 1.024e+0\u001b[0m | \u001b[0m 13.66   \u001b[0m | \u001b[0m 297.6   \u001b[0m | \u001b[0m 28.84   \u001b[0m | \u001b[0m 3.481   \u001b[0m | \u001b[0m 0.6726  \u001b[0m |\n",
      "| \u001b[0m 39      \u001b[0m | \u001b[0m-0.003091\u001b[0m | \u001b[0m 0.1646  \u001b[0m | \u001b[0m 997.9   \u001b[0m | \u001b[0m 18.88   \u001b[0m | \u001b[0m 293.0   \u001b[0m | \u001b[0m 1.161   \u001b[0m | \u001b[0m 1.533   \u001b[0m | \u001b[0m 0.541   \u001b[0m |\n",
      "| \u001b[0m 40      \u001b[0m | \u001b[0m-0.003463\u001b[0m | \u001b[0m 0.311   \u001b[0m | \u001b[0m 26.35   \u001b[0m | \u001b[0m 19.93   \u001b[0m | \u001b[0m 274.1   \u001b[0m | \u001b[0m 28.77   \u001b[0m | \u001b[0m 0.4048  \u001b[0m | \u001b[0m 0.7862  \u001b[0m |\n",
      "| \u001b[0m 41      \u001b[0m | \u001b[0m-0.003053\u001b[0m | \u001b[0m 0.4916  \u001b[0m | \u001b[0m 1.019e+0\u001b[0m | \u001b[0m 19.49   \u001b[0m | \u001b[0m 296.6   \u001b[0m | \u001b[0m 4.493   \u001b[0m | \u001b[0m 0.05979 \u001b[0m | \u001b[0m 0.7083  \u001b[0m |\n",
      "| \u001b[0m 42      \u001b[0m | \u001b[0m-0.08116 \u001b[0m | \u001b[0m 0.006369\u001b[0m | \u001b[0m 1.015e+0\u001b[0m | \u001b[0m 19.84   \u001b[0m | \u001b[0m 295.5   \u001b[0m | \u001b[0m 1.415   \u001b[0m | \u001b[0m 1.341   \u001b[0m | \u001b[0m 0.7551  \u001b[0m |\n",
      "| \u001b[0m 43      \u001b[0m | \u001b[0m-0.002881\u001b[0m | \u001b[0m 0.5     \u001b[0m | \u001b[0m 470.1   \u001b[0m | \u001b[0m 0.0     \u001b[0m | \u001b[0m 300.0   \u001b[0m | \u001b[0m 0.0     \u001b[0m | \u001b[0m 40.0    \u001b[0m | \u001b[0m 0.5     \u001b[0m |\n",
      "| \u001b[0m 44      \u001b[0m | \u001b[0m-0.3628  \u001b[0m | \u001b[0m 0.005   \u001b[0m | \u001b[0m 433.3   \u001b[0m | \u001b[0m 0.0     \u001b[0m | \u001b[0m 100.0   \u001b[0m | \u001b[0m 30.0    \u001b[0m | \u001b[0m 40.0    \u001b[0m | \u001b[0m 1.0     \u001b[0m |\n"
     ]
    },
    {
     "name": "stdout",
     "output_type": "stream",
     "text": [
      "| \u001b[0m 45      \u001b[0m | \u001b[0m-0.003634\u001b[0m | \u001b[0m 0.5     \u001b[0m | \u001b[0m 594.1   \u001b[0m | \u001b[0m 20.0    \u001b[0m | \u001b[0m 300.0   \u001b[0m | \u001b[0m 30.0    \u001b[0m | \u001b[0m 0.0     \u001b[0m | \u001b[0m 0.5     \u001b[0m |\n",
      "| \u001b[0m 46      \u001b[0m | \u001b[0m-0.1197  \u001b[0m | \u001b[0m 0.005   \u001b[0m | \u001b[0m 357.9   \u001b[0m | \u001b[0m 20.0    \u001b[0m | \u001b[0m 300.0   \u001b[0m | \u001b[0m 0.0     \u001b[0m | \u001b[0m 0.0     \u001b[0m | \u001b[0m 1.0     \u001b[0m |\n",
      "| \u001b[0m 47      \u001b[0m | \u001b[0m-0.1915  \u001b[0m | \u001b[0m 0.005   \u001b[0m | \u001b[0m 459.7   \u001b[0m | \u001b[0m 20.0    \u001b[0m | \u001b[0m 213.5   \u001b[0m | \u001b[0m 30.0    \u001b[0m | \u001b[0m 0.0     \u001b[0m | \u001b[0m 0.5     \u001b[0m |\n",
      "| \u001b[95m 48      \u001b[0m | \u001b[95m-0.002687\u001b[0m | \u001b[95m 0.5     \u001b[0m | \u001b[95m 734.7   \u001b[0m | \u001b[95m 0.0     \u001b[0m | \u001b[95m 100.0   \u001b[0m | \u001b[95m 0.0     \u001b[0m | \u001b[95m 40.0    \u001b[0m | \u001b[95m 0.5     \u001b[0m |\n",
      "| \u001b[0m 49      \u001b[0m | \u001b[0m-0.002881\u001b[0m | \u001b[0m 0.5     \u001b[0m | \u001b[0m 674.5   \u001b[0m | \u001b[0m 0.0     \u001b[0m | \u001b[0m 300.0   \u001b[0m | \u001b[0m 0.0     \u001b[0m | \u001b[0m 40.0    \u001b[0m | \u001b[0m 0.5     \u001b[0m |\n",
      "| \u001b[0m 50      \u001b[0m | \u001b[0m-0.1835  \u001b[0m | \u001b[0m 0.005   \u001b[0m | \u001b[0m 557.0   \u001b[0m | \u001b[0m 0.0     \u001b[0m | \u001b[0m 221.3   \u001b[0m | \u001b[0m 0.0     \u001b[0m | \u001b[0m 40.0    \u001b[0m | \u001b[0m 0.5     \u001b[0m |\n",
      "| \u001b[0m 51      \u001b[0m | \u001b[0m-0.1204  \u001b[0m | \u001b[0m 0.005   \u001b[0m | \u001b[0m 155.3   \u001b[0m | \u001b[0m 20.0    \u001b[0m | \u001b[0m 300.0   \u001b[0m | \u001b[0m 0.0     \u001b[0m | \u001b[0m 40.0    \u001b[0m | \u001b[0m 1.0     \u001b[0m |\n",
      "| \u001b[0m 52      \u001b[0m | \u001b[0m-0.2063  \u001b[0m | \u001b[0m 0.005   \u001b[0m | \u001b[0m 236.7   \u001b[0m | \u001b[0m 0.0     \u001b[0m | \u001b[0m 198.2   \u001b[0m | \u001b[0m 0.0     \u001b[0m | \u001b[0m 0.0     \u001b[0m | \u001b[0m 1.0     \u001b[0m |\n",
      "| \u001b[0m 53      \u001b[0m | \u001b[0m-0.003652\u001b[0m | \u001b[0m 0.5     \u001b[0m | \u001b[0m 1.024e+0\u001b[0m | \u001b[0m 20.0    \u001b[0m | \u001b[0m 177.3   \u001b[0m | \u001b[0m 30.0    \u001b[0m | \u001b[0m 40.0    \u001b[0m | \u001b[0m 0.5     \u001b[0m |\n",
      "| \u001b[0m 54      \u001b[0m | \u001b[0m-0.194   \u001b[0m | \u001b[0m 0.005   \u001b[0m | \u001b[0m 8.0     \u001b[0m | \u001b[0m 0.0     \u001b[0m | \u001b[0m 211.0   \u001b[0m | \u001b[0m 0.0     \u001b[0m | \u001b[0m 40.0    \u001b[0m | \u001b[0m 1.0     \u001b[0m |\n",
      "| \u001b[0m 55      \u001b[0m | \u001b[0m-0.003266\u001b[0m | \u001b[0m 0.5     \u001b[0m | \u001b[0m 838.2   \u001b[0m | \u001b[0m 20.0    \u001b[0m | \u001b[0m 300.0   \u001b[0m | \u001b[0m 0.0     \u001b[0m | \u001b[0m 40.0    \u001b[0m | \u001b[0m 0.5     \u001b[0m |\n",
      "| \u001b[0m 56      \u001b[0m | \u001b[0m-0.00275 \u001b[0m | \u001b[0m 0.5     \u001b[0m | \u001b[0m 289.1   \u001b[0m | \u001b[0m 0.0     \u001b[0m | \u001b[0m 100.0   \u001b[0m | \u001b[0m 0.0     \u001b[0m | \u001b[0m 40.0    \u001b[0m | \u001b[0m 1.0     \u001b[0m |\n",
      "| \u001b[0m 57      \u001b[0m | \u001b[0m-0.002751\u001b[0m | \u001b[0m 0.5     \u001b[0m | \u001b[0m 836.0   \u001b[0m | \u001b[0m 0.0     \u001b[0m | \u001b[0m 189.5   \u001b[0m | \u001b[0m 0.0     \u001b[0m | \u001b[0m 40.0    \u001b[0m | \u001b[0m 0.5     \u001b[0m |\n",
      "| \u001b[0m 58      \u001b[0m | \u001b[0m-0.003529\u001b[0m | \u001b[0m 0.5     \u001b[0m | \u001b[0m 308.1   \u001b[0m | \u001b[0m 0.0     \u001b[0m | \u001b[0m 300.0   \u001b[0m | \u001b[0m 30.0    \u001b[0m | \u001b[0m 40.0    \u001b[0m | \u001b[0m 0.5     \u001b[0m |\n",
      "| \u001b[0m 59      \u001b[0m | \u001b[0m-0.00302 \u001b[0m | \u001b[0m 0.5     \u001b[0m | \u001b[0m 385.6   \u001b[0m | \u001b[0m 0.0     \u001b[0m | \u001b[0m 216.1   \u001b[0m | \u001b[0m 0.0     \u001b[0m | \u001b[0m 40.0    \u001b[0m | \u001b[0m 1.0     \u001b[0m |\n",
      "| \u001b[0m 60      \u001b[0m | \u001b[0m-0.363   \u001b[0m | \u001b[0m 0.005   \u001b[0m | \u001b[0m 176.5   \u001b[0m | \u001b[0m 20.0    \u001b[0m | \u001b[0m 100.0   \u001b[0m | \u001b[0m 0.0     \u001b[0m | \u001b[0m 40.0    \u001b[0m | \u001b[0m 0.5     \u001b[0m |\n",
      "| \u001b[0m 61      \u001b[0m | \u001b[0m-0.3621  \u001b[0m | \u001b[0m 0.005   \u001b[0m | \u001b[0m 342.4   \u001b[0m | \u001b[0m 0.0     \u001b[0m | \u001b[0m 100.0   \u001b[0m | \u001b[0m 30.0    \u001b[0m | \u001b[0m 0.0     \u001b[0m | \u001b[0m 1.0     \u001b[0m |\n",
      "| \u001b[0m 62      \u001b[0m | \u001b[0m-0.002687\u001b[0m | \u001b[0m 0.5     \u001b[0m | \u001b[0m 539.8   \u001b[0m | \u001b[0m 0.0     \u001b[0m | \u001b[0m 100.0   \u001b[0m | \u001b[0m 0.0     \u001b[0m | \u001b[0m 40.0    \u001b[0m | \u001b[0m 0.5     \u001b[0m |\n",
      "| \u001b[0m 63      \u001b[0m | \u001b[0m-0.00367 \u001b[0m | \u001b[0m 0.5     \u001b[0m | \u001b[0m 703.8   \u001b[0m | \u001b[0m 20.0    \u001b[0m | \u001b[0m 100.0   \u001b[0m | \u001b[0m 30.0    \u001b[0m | \u001b[0m 0.0     \u001b[0m | \u001b[0m 0.5     \u001b[0m |\n",
      "| \u001b[0m 64      \u001b[0m | \u001b[0m-0.003507\u001b[0m | \u001b[0m 0.5     \u001b[0m | \u001b[0m 950.2   \u001b[0m | \u001b[0m 0.0     \u001b[0m | \u001b[0m 100.0   \u001b[0m | \u001b[0m 30.0    \u001b[0m | \u001b[0m 0.0     \u001b[0m | \u001b[0m 0.5     \u001b[0m |\n",
      "| \u001b[0m 65      \u001b[0m | \u001b[0m-0.003469\u001b[0m | \u001b[0m 0.5     \u001b[0m | \u001b[0m 408.2   \u001b[0m | \u001b[0m 20.0    \u001b[0m | \u001b[0m 300.0   \u001b[0m | \u001b[0m 30.0    \u001b[0m | \u001b[0m 40.0    \u001b[0m | \u001b[0m 1.0     \u001b[0m |\n",
      "=============================================================================================================\n",
      "46.33 minutes\n"
     ]
    }
   ],
   "source": [
    "start_time = time.time()#This takes about 46 mins on our machine using 8 cores; however, this time it look much longer\n",
    "model_type['model'] = 'XGboosthist'\n",
    "histxgb_optimizer = hyperparameter_tuning(model_results_cv, xgb_hist_param_dict)\n",
    "print(\"%.2f minutes\" % (int(time.time() - start_time)/60))"
   ]
  },
  {
   "cell_type": "code",
   "execution_count": 19,
   "metadata": {
    "scrolled": true
   },
   "outputs": [
    {
     "name": "stdout",
     "output_type": "stream",
     "text": [
      "|   iter    |  target   | learni... | max_depth | min_ch... | num_bo... | reg_alpha | reg_la... | subsample |\n",
      "-------------------------------------------------------------------------------------------------------------\n",
      "| \u001b[0m 1       \u001b[0m | \u001b[0m-0.003164\u001b[0m | \u001b[0m 0.1267  \u001b[0m | \u001b[0m 45.59   \u001b[0m | \u001b[0m 3.316   \u001b[0m | \u001b[0m 108.9   \u001b[0m | \u001b[0m 16.35   \u001b[0m | \u001b[0m 29.75   \u001b[0m | \u001b[0m 0.7857  \u001b[0m |\n",
      "| \u001b[0m 2       \u001b[0m | \u001b[0m-0.003333\u001b[0m | \u001b[0m 0.2947  \u001b[0m | \u001b[0m 758.4   \u001b[0m | \u001b[0m 8.252   \u001b[0m | \u001b[0m 194.7   \u001b[0m | \u001b[0m 21.36   \u001b[0m | \u001b[0m 8.717   \u001b[0m | \u001b[0m 0.634   \u001b[0m |\n",
      "| \u001b[0m 3       \u001b[0m | \u001b[0m-0.003328\u001b[0m | \u001b[0m 0.1991  \u001b[0m | \u001b[0m 815.1   \u001b[0m | \u001b[0m 18.56   \u001b[0m | \u001b[0m 114.7   \u001b[0m | \u001b[0m 26.08   \u001b[0m | \u001b[0m 4.932   \u001b[0m | \u001b[0m 0.7492  \u001b[0m |\n",
      "| \u001b[0m 4       \u001b[0m | \u001b[0m-0.003255\u001b[0m | \u001b[0m 0.2957  \u001b[0m | \u001b[0m 869.0   \u001b[0m | \u001b[0m 3.971   \u001b[0m | \u001b[0m 100.6   \u001b[0m | \u001b[0m 21.66   \u001b[0m | \u001b[0m 30.83   \u001b[0m | \u001b[0m 0.7681  \u001b[0m |\n",
      "| \u001b[95m 5       \u001b[0m | \u001b[95m-0.003016\u001b[0m | \u001b[95m 0.3284  \u001b[0m | \u001b[95m 80.39   \u001b[0m | \u001b[95m 4.461   \u001b[0m | \u001b[95m 112.7   \u001b[0m | \u001b[95m 11.54   \u001b[0m | \u001b[95m 38.3    \u001b[0m | \u001b[95m 0.9418  \u001b[0m |\n",
      "| \u001b[0m 6       \u001b[0m | \u001b[0m-0.003587\u001b[0m | \u001b[0m 0.1414  \u001b[0m | \u001b[0m 792.9   \u001b[0m | \u001b[0m 0.714   \u001b[0m | \u001b[0m 286.8   \u001b[0m | \u001b[0m 28.9    \u001b[0m | \u001b[0m 5.278   \u001b[0m | \u001b[0m 0.6448  \u001b[0m |\n",
      "| \u001b[0m 7       \u001b[0m | \u001b[0m-0.003269\u001b[0m | \u001b[0m 0.4917  \u001b[0m | \u001b[0m 152.4   \u001b[0m | \u001b[0m 15.25   \u001b[0m | \u001b[0m 219.0   \u001b[0m | \u001b[0m 20.31   \u001b[0m | \u001b[0m 25.01   \u001b[0m | \u001b[0m 0.9159  \u001b[0m |\n",
      "| \u001b[0m 8       \u001b[0m | \u001b[0m-0.003174\u001b[0m | \u001b[0m 0.2977  \u001b[0m | \u001b[0m 665.1   \u001b[0m | \u001b[0m 9.699   \u001b[0m | \u001b[0m 194.0   \u001b[0m | \u001b[0m 17.03   \u001b[0m | \u001b[0m 32.69   \u001b[0m | \u001b[0m 0.9635  \u001b[0m |\n",
      "| \u001b[0m 9       \u001b[0m | \u001b[0m-0.003221\u001b[0m | \u001b[0m 0.2422  \u001b[0m | \u001b[0m 629.8   \u001b[0m | \u001b[0m 16.91   \u001b[0m | \u001b[0m 114.0   \u001b[0m | \u001b[0m 17.17   \u001b[0m | \u001b[0m 24.9    \u001b[0m | \u001b[0m 0.7705  \u001b[0m |\n",
      "| \u001b[0m 10      \u001b[0m | \u001b[0m-0.003241\u001b[0m | \u001b[0m 0.2959  \u001b[0m | \u001b[0m 311.5   \u001b[0m | \u001b[0m 18.41   \u001b[0m | \u001b[0m 160.9   \u001b[0m | \u001b[0m 15.61   \u001b[0m | \u001b[0m 26.65   \u001b[0m | \u001b[0m 0.5297  \u001b[0m |\n",
      "| \u001b[0m 11      \u001b[0m | \u001b[0m-0.003337\u001b[0m | \u001b[0m 0.07836 \u001b[0m | \u001b[0m 302.8   \u001b[0m | \u001b[0m 7.027   \u001b[0m | \u001b[0m 182.5   \u001b[0m | \u001b[0m 28.16   \u001b[0m | \u001b[0m 38.39   \u001b[0m | \u001b[0m 0.7905  \u001b[0m |\n",
      "| \u001b[95m 12      \u001b[0m | \u001b[95m-0.002915\u001b[0m | \u001b[95m 0.1181  \u001b[0m | \u001b[95m 926.9   \u001b[0m | \u001b[95m 12.33   \u001b[0m | \u001b[95m 149.7   \u001b[0m | \u001b[95m 7.358   \u001b[0m | \u001b[95m 25.2    \u001b[0m | \u001b[95m 0.688   \u001b[0m |\n",
      "| \u001b[0m 13      \u001b[0m | \u001b[0m-0.002998\u001b[0m | \u001b[0m 0.08546 \u001b[0m | \u001b[0m 738.0   \u001b[0m | \u001b[0m 12.76   \u001b[0m | \u001b[0m 249.3   \u001b[0m | \u001b[0m 10.96   \u001b[0m | \u001b[0m 2.141   \u001b[0m | \u001b[0m 0.6492  \u001b[0m |\n",
      "| \u001b[0m 14      \u001b[0m | \u001b[0m-0.003512\u001b[0m | \u001b[0m 0.4635  \u001b[0m | \u001b[0m 563.2   \u001b[0m | \u001b[0m 19.13   \u001b[0m | \u001b[0m 130.2   \u001b[0m | \u001b[0m 17.37   \u001b[0m | \u001b[0m 1.926   \u001b[0m | \u001b[0m 0.9777  \u001b[0m |\n",
      "| \u001b[0m 15      \u001b[0m | \u001b[0m-0.003358\u001b[0m | \u001b[0m 0.3797  \u001b[0m | \u001b[0m 892.5   \u001b[0m | \u001b[0m 3.693   \u001b[0m | \u001b[0m 262.6   \u001b[0m | \u001b[0m 23.99   \u001b[0m | \u001b[0m 16.1    \u001b[0m | \u001b[0m 0.703   \u001b[0m |\n",
      "| \u001b[95m 16      \u001b[0m | \u001b[95m-0.002912\u001b[0m | \u001b[95m 0.2647  \u001b[0m | \u001b[95m 12.91   \u001b[0m | \u001b[95m 17.88   \u001b[0m | \u001b[95m 299.5   \u001b[0m | \u001b[95m 6.82    \u001b[0m | \u001b[95m 37.24   \u001b[0m | \u001b[95m 0.7372  \u001b[0m |\n",
      "| \u001b[95m 17      \u001b[0m | \u001b[95m-0.002857\u001b[0m | \u001b[95m 0.2229  \u001b[0m | \u001b[95m 35.92   \u001b[0m | \u001b[95m 7.511   \u001b[0m | \u001b[95m 299.7   \u001b[0m | \u001b[95m 0.86    \u001b[0m | \u001b[95m 1.283   \u001b[0m | \u001b[95m 0.586   \u001b[0m |\n",
      "| \u001b[0m 18      \u001b[0m | \u001b[0m-0.002902\u001b[0m | \u001b[0m 0.2914  \u001b[0m | \u001b[0m 995.3   \u001b[0m | \u001b[0m 13.07   \u001b[0m | \u001b[0m 295.6   \u001b[0m | \u001b[0m 6.61    \u001b[0m | \u001b[0m 39.9    \u001b[0m | \u001b[0m 0.85    \u001b[0m |\n",
      "| \u001b[0m 19      \u001b[0m | \u001b[0m-1.299   \u001b[0m | \u001b[0m 0.457   \u001b[0m | \u001b[0m 12.92   \u001b[0m | \u001b[0m 4.386   \u001b[0m | \u001b[0m 299.0   \u001b[0m | \u001b[0m 2.604   \u001b[0m | \u001b[0m 0.01845 \u001b[0m | \u001b[0m 0.5532  \u001b[0m |\n",
      "| \u001b[0m 20      \u001b[0m | \u001b[0m-0.003133\u001b[0m | \u001b[0m 0.474   \u001b[0m | \u001b[0m 739.4   \u001b[0m | \u001b[0m 11.22   \u001b[0m | \u001b[0m 251.2   \u001b[0m | \u001b[0m 10.92   \u001b[0m | \u001b[0m 3.392   \u001b[0m | \u001b[0m 0.6794  \u001b[0m |\n",
      "| \u001b[0m 21      \u001b[0m | \u001b[0m-0.005444\u001b[0m | \u001b[0m 0.005   \u001b[0m | \u001b[0m 87.8    \u001b[0m | \u001b[0m 20.0    \u001b[0m | \u001b[0m 300.0   \u001b[0m | \u001b[0m 0.0     \u001b[0m | \u001b[0m 34.1    \u001b[0m | \u001b[0m 0.8045  \u001b[0m |\n",
      "| \u001b[0m 22      \u001b[0m | \u001b[0m-0.007867\u001b[0m | \u001b[0m 0.005   \u001b[0m | \u001b[0m 54.94   \u001b[0m | \u001b[0m 20.0    \u001b[0m | \u001b[0m 225.3   \u001b[0m | \u001b[0m 30.0    \u001b[0m | \u001b[0m 40.0    \u001b[0m | \u001b[0m 1.0     \u001b[0m |\n",
      "| \u001b[0m 23      \u001b[0m | \u001b[0m-0.01007 \u001b[0m | \u001b[0m 0.5     \u001b[0m | \u001b[0m 205.4   \u001b[0m | \u001b[0m 0.0     \u001b[0m | \u001b[0m 100.0   \u001b[0m | \u001b[0m 30.0    \u001b[0m | \u001b[0m 0.0     \u001b[0m | \u001b[0m 0.5     \u001b[0m |\n",
      "| \u001b[0m 24      \u001b[0m | \u001b[0m-0.003346\u001b[0m | \u001b[0m 0.3768  \u001b[0m | \u001b[0m 441.9   \u001b[0m | \u001b[0m 3.745   \u001b[0m | \u001b[0m 183.5   \u001b[0m | \u001b[0m 29.38   \u001b[0m | \u001b[0m 36.45   \u001b[0m | \u001b[0m 0.9642  \u001b[0m |\n",
      "| \u001b[0m 25      \u001b[0m | \u001b[0m-0.00333 \u001b[0m | \u001b[0m 0.3613  \u001b[0m | \u001b[0m 550.1   \u001b[0m | \u001b[0m 13.32   \u001b[0m | \u001b[0m 263.2   \u001b[0m | \u001b[0m 25.93   \u001b[0m | \u001b[0m 21.31   \u001b[0m | \u001b[0m 0.7222  \u001b[0m |\n",
      "| \u001b[0m 26      \u001b[0m | \u001b[0m-0.002995\u001b[0m | \u001b[0m 0.4981  \u001b[0m | \u001b[0m 390.2   \u001b[0m | \u001b[0m 18.54   \u001b[0m | \u001b[0m 295.3   \u001b[0m | \u001b[0m 5.294   \u001b[0m | \u001b[0m 0.1446  \u001b[0m | \u001b[0m 0.7173  \u001b[0m |\n",
      "| \u001b[0m 27      \u001b[0m | \u001b[0m-0.02311 \u001b[0m | \u001b[0m 0.5     \u001b[0m | \u001b[0m 261.2   \u001b[0m | \u001b[0m 0.0     \u001b[0m | \u001b[0m 300.0   \u001b[0m | \u001b[0m 0.0     \u001b[0m | \u001b[0m 0.0     \u001b[0m | \u001b[0m 0.9744  \u001b[0m |\n",
      "| \u001b[0m 28      \u001b[0m | \u001b[0m-0.007252\u001b[0m | \u001b[0m 0.005   \u001b[0m | \u001b[0m 1.024e+0\u001b[0m | \u001b[0m 20.0    \u001b[0m | \u001b[0m 100.0   \u001b[0m | \u001b[0m 30.0    \u001b[0m | \u001b[0m 0.0     \u001b[0m | \u001b[0m 0.5     \u001b[0m |\n",
      "| \u001b[0m 29      \u001b[0m | \u001b[0m-0.00654 \u001b[0m | \u001b[0m 0.005   \u001b[0m | \u001b[0m 406.8   \u001b[0m | \u001b[0m 20.0    \u001b[0m | \u001b[0m 100.0   \u001b[0m | \u001b[0m 0.0     \u001b[0m | \u001b[0m 0.0     \u001b[0m | \u001b[0m 0.5     \u001b[0m |\n",
      "| \u001b[0m 30      \u001b[0m | \u001b[0m-0.01008 \u001b[0m | \u001b[0m 0.3701  \u001b[0m | \u001b[0m 1.024e+0\u001b[0m | \u001b[0m 0.0     \u001b[0m | \u001b[0m 207.0   \u001b[0m | \u001b[0m 30.0    \u001b[0m | \u001b[0m 0.0     \u001b[0m | \u001b[0m 1.0     \u001b[0m |\n",
      "| \u001b[0m 31      \u001b[0m | \u001b[0m-0.005066\u001b[0m | \u001b[0m 0.005   \u001b[0m | \u001b[0m 647.0   \u001b[0m | \u001b[0m 0.0     \u001b[0m | \u001b[0m 300.0   \u001b[0m | \u001b[0m 0.0     \u001b[0m | \u001b[0m 40.0    \u001b[0m | \u001b[0m 0.5     \u001b[0m |\n",
      "| \u001b[0m 32      \u001b[0m | \u001b[0m-0.008949\u001b[0m | \u001b[0m 0.005   \u001b[0m | \u001b[0m 727.0   \u001b[0m | \u001b[0m 0.0     \u001b[0m | \u001b[0m 100.0   \u001b[0m | \u001b[0m 0.0     \u001b[0m | \u001b[0m 40.0    \u001b[0m | \u001b[0m 0.5     \u001b[0m |\n",
      "| \u001b[0m 33      \u001b[0m | \u001b[0m-0.005066\u001b[0m | \u001b[0m 0.005   \u001b[0m | \u001b[0m 472.5   \u001b[0m | \u001b[0m 0.0     \u001b[0m | \u001b[0m 300.0   \u001b[0m | \u001b[0m 0.0     \u001b[0m | \u001b[0m 40.0    \u001b[0m | \u001b[0m 1.0     \u001b[0m |\n",
      "| \u001b[0m 34      \u001b[0m | \u001b[0m-0.008949\u001b[0m | \u001b[0m 0.005   \u001b[0m | \u001b[0m 491.5   \u001b[0m | \u001b[0m 0.0     \u001b[0m | \u001b[0m 100.0   \u001b[0m | \u001b[0m 0.0     \u001b[0m | \u001b[0m 40.0    \u001b[0m | \u001b[0m 0.5     \u001b[0m |\n",
      "| \u001b[0m 35      \u001b[0m | \u001b[0m-0.004644\u001b[0m | \u001b[0m 0.005   \u001b[0m | \u001b[0m 231.4   \u001b[0m | \u001b[0m 20.0    \u001b[0m | \u001b[0m 195.6   \u001b[0m | \u001b[0m 0.0     \u001b[0m | \u001b[0m 0.0     \u001b[0m | \u001b[0m 0.5     \u001b[0m |\n",
      "| \u001b[0m 36      \u001b[0m | \u001b[0m-0.007707\u001b[0m | \u001b[0m 0.005   \u001b[0m | \u001b[0m 840.9   \u001b[0m | \u001b[0m 20.0    \u001b[0m | \u001b[0m 198.7   \u001b[0m | \u001b[0m 0.0     \u001b[0m | \u001b[0m 40.0    \u001b[0m | \u001b[0m 1.0     \u001b[0m |\n",
      "| \u001b[0m 37      \u001b[0m | \u001b[0m-0.004114\u001b[0m | \u001b[0m 0.005   \u001b[0m | \u001b[0m 173.7   \u001b[0m | \u001b[0m 0.0     \u001b[0m | \u001b[0m 300.0   \u001b[0m | \u001b[0m 30.0    \u001b[0m | \u001b[0m 0.0     \u001b[0m | \u001b[0m 0.5     \u001b[0m |\n",
      "| \u001b[0m 38      \u001b[0m | \u001b[0m-0.006542\u001b[0m | \u001b[0m 0.005   \u001b[0m | \u001b[0m 322.7   \u001b[0m | \u001b[0m 20.0    \u001b[0m | \u001b[0m 300.0   \u001b[0m | \u001b[0m 30.0    \u001b[0m | \u001b[0m 40.0    \u001b[0m | \u001b[0m 0.5     \u001b[0m |\n",
      "| \u001b[0m 39      \u001b[0m | \u001b[0m-0.008949\u001b[0m | \u001b[0m 0.005   \u001b[0m | \u001b[0m 275.2   \u001b[0m | \u001b[0m 0.0     \u001b[0m | \u001b[0m 100.0   \u001b[0m | \u001b[0m 0.0     \u001b[0m | \u001b[0m 40.0    \u001b[0m | \u001b[0m 1.0     \u001b[0m |\n",
      "| \u001b[0m 40      \u001b[0m | \u001b[0m-0.004527\u001b[0m | \u001b[0m 0.005   \u001b[0m | \u001b[0m 370.0   \u001b[0m | \u001b[0m 0.0     \u001b[0m | \u001b[0m 211.7   \u001b[0m | \u001b[0m 0.0     \u001b[0m | \u001b[0m 0.0     \u001b[0m | \u001b[0m 1.0     \u001b[0m |\n",
      "| \u001b[0m 41      \u001b[0m | \u001b[0m-0.004568\u001b[0m | \u001b[0m 0.005   \u001b[0m | \u001b[0m 501.5   \u001b[0m | \u001b[0m 20.0    \u001b[0m | \u001b[0m 202.8   \u001b[0m | \u001b[0m 0.0     \u001b[0m | \u001b[0m 0.0     \u001b[0m | \u001b[0m 0.5     \u001b[0m |\n",
      "| \u001b[0m 42      \u001b[0m | \u001b[0m-0.003166\u001b[0m | \u001b[0m 0.5     \u001b[0m | \u001b[0m 1.024e+0\u001b[0m | \u001b[0m 0.0     \u001b[0m | \u001b[0m 149.5   \u001b[0m | \u001b[0m 0.0     \u001b[0m | \u001b[0m 40.0    \u001b[0m | \u001b[0m 1.0     \u001b[0m |\n",
      "| \u001b[0m 43      \u001b[0m | \u001b[0m-0.003593\u001b[0m | \u001b[0m 0.5     \u001b[0m | \u001b[0m 360.0   \u001b[0m | \u001b[0m 0.0     \u001b[0m | \u001b[0m 100.0   \u001b[0m | \u001b[0m 30.0    \u001b[0m | \u001b[0m 40.0    \u001b[0m | \u001b[0m 1.0     \u001b[0m |\n",
      "| \u001b[95m 44      \u001b[0m | \u001b[95m-0.002802\u001b[0m | \u001b[95m 0.5     \u001b[0m | \u001b[95m 846.6   \u001b[0m | \u001b[95m 20.0    \u001b[0m | \u001b[95m 300.0   \u001b[0m | \u001b[95m 0.0     \u001b[0m | \u001b[95m 40.0    \u001b[0m | \u001b[95m 0.5     \u001b[0m |\n"
     ]
    },
    {
     "name": "stdout",
     "output_type": "stream",
     "text": [
      "| \u001b[0m 45      \u001b[0m | \u001b[0m-0.004212\u001b[0m | \u001b[0m 0.005   \u001b[0m | \u001b[0m 95.25   \u001b[0m | \u001b[0m 0.0     \u001b[0m | \u001b[0m 179.8   \u001b[0m | \u001b[0m 0.0     \u001b[0m | \u001b[0m 0.0     \u001b[0m | \u001b[0m 0.5     \u001b[0m |\n",
      "| \u001b[0m 46      \u001b[0m | \u001b[0m-0.006506\u001b[0m | \u001b[0m 0.005   \u001b[0m | \u001b[0m 577.9   \u001b[0m | \u001b[0m 0.0     \u001b[0m | \u001b[0m 193.4   \u001b[0m | \u001b[0m 0.0     \u001b[0m | \u001b[0m 40.0    \u001b[0m | \u001b[0m 0.5     \u001b[0m |\n",
      "| \u001b[0m 47      \u001b[0m | \u001b[0m-0.004355\u001b[0m | \u001b[0m 0.005   \u001b[0m | \u001b[0m 73.61   \u001b[0m | \u001b[0m 20.0    \u001b[0m | \u001b[0m 300.0   \u001b[0m | \u001b[0m 30.0    \u001b[0m | \u001b[0m 0.0     \u001b[0m | \u001b[0m 1.0     \u001b[0m |\n",
      "| \u001b[0m 48      \u001b[0m | \u001b[0m-0.009213\u001b[0m | \u001b[0m 0.005   \u001b[0m | \u001b[0m 172.6   \u001b[0m | \u001b[0m 20.0    \u001b[0m | \u001b[0m 133.9   \u001b[0m | \u001b[0m 0.0     \u001b[0m | \u001b[0m 40.0    \u001b[0m | \u001b[0m 1.0     \u001b[0m |\n",
      "| \u001b[0m 49      \u001b[0m | \u001b[0m-0.006542\u001b[0m | \u001b[0m 0.005   \u001b[0m | \u001b[0m 718.3   \u001b[0m | \u001b[0m 20.0    \u001b[0m | \u001b[0m 300.0   \u001b[0m | \u001b[0m 30.0    \u001b[0m | \u001b[0m 40.0    \u001b[0m | \u001b[0m 1.0     \u001b[0m |\n",
      "| \u001b[0m 50      \u001b[0m | \u001b[0m-0.004114\u001b[0m | \u001b[0m 0.005   \u001b[0m | \u001b[0m 1.024e+0\u001b[0m | \u001b[0m 0.0     \u001b[0m | \u001b[0m 300.0   \u001b[0m | \u001b[0m 30.0    \u001b[0m | \u001b[0m 0.0     \u001b[0m | \u001b[0m 0.5     \u001b[0m |\n",
      "| \u001b[0m 51      \u001b[0m | \u001b[0m-0.003612\u001b[0m | \u001b[0m 0.5     \u001b[0m | \u001b[0m 617.1   \u001b[0m | \u001b[0m 20.0    \u001b[0m | \u001b[0m 300.0   \u001b[0m | \u001b[0m 30.0    \u001b[0m | \u001b[0m 0.0     \u001b[0m | \u001b[0m 1.0     \u001b[0m |\n",
      "| \u001b[0m 52      \u001b[0m | \u001b[0m-0.002971\u001b[0m | \u001b[0m 0.5     \u001b[0m | \u001b[0m 937.5   \u001b[0m | \u001b[0m 20.0    \u001b[0m | \u001b[0m 300.0   \u001b[0m | \u001b[0m 0.0     \u001b[0m | \u001b[0m 0.0     \u001b[0m | \u001b[0m 0.5     \u001b[0m |\n",
      "| \u001b[0m 53      \u001b[0m | \u001b[0m-0.02261 \u001b[0m | \u001b[0m 0.5     \u001b[0m | \u001b[0m 953.6   \u001b[0m | \u001b[0m 0.0     \u001b[0m | \u001b[0m 100.0   \u001b[0m | \u001b[0m 0.0     \u001b[0m | \u001b[0m 0.0     \u001b[0m | \u001b[0m 1.0     \u001b[0m |\n",
      "| \u001b[0m 54      \u001b[0m | \u001b[0m-0.003612\u001b[0m | \u001b[0m 0.5     \u001b[0m | \u001b[0m 702.7   \u001b[0m | \u001b[0m 20.0    \u001b[0m | \u001b[0m 100.0   \u001b[0m | \u001b[0m 30.0    \u001b[0m | \u001b[0m 0.0     \u001b[0m | \u001b[0m 1.0     \u001b[0m |\n",
      "| \u001b[0m 55      \u001b[0m | \u001b[0m-0.002813\u001b[0m | \u001b[0m 0.5     \u001b[0m | \u001b[0m 8.0     \u001b[0m | \u001b[0m 20.0    \u001b[0m | \u001b[0m 165.7   \u001b[0m | \u001b[0m 0.0     \u001b[0m | \u001b[0m 40.0    \u001b[0m | \u001b[0m 0.5     \u001b[0m |\n",
      "| \u001b[0m 56      \u001b[0m | \u001b[0m-0.003593\u001b[0m | \u001b[0m 0.5     \u001b[0m | \u001b[0m 229.6   \u001b[0m | \u001b[0m 0.0     \u001b[0m | \u001b[0m 254.5   \u001b[0m | \u001b[0m 30.0    \u001b[0m | \u001b[0m 40.0    \u001b[0m | \u001b[0m 0.5     \u001b[0m |\n",
      "| \u001b[0m 57      \u001b[0m | \u001b[0m-0.003612\u001b[0m | \u001b[0m 0.5     \u001b[0m | \u001b[0m 120.5   \u001b[0m | \u001b[0m 20.0    \u001b[0m | \u001b[0m 100.0   \u001b[0m | \u001b[0m 30.0    \u001b[0m | \u001b[0m 0.0     \u001b[0m | \u001b[0m 0.5     \u001b[0m |\n",
      "| \u001b[0m 58      \u001b[0m | \u001b[0m-0.003612\u001b[0m | \u001b[0m 0.5     \u001b[0m | \u001b[0m 480.6   \u001b[0m | \u001b[0m 20.0    \u001b[0m | \u001b[0m 300.0   \u001b[0m | \u001b[0m 30.0    \u001b[0m | \u001b[0m 0.0     \u001b[0m | \u001b[0m 0.5     \u001b[0m |\n",
      "| \u001b[0m 59      \u001b[0m | \u001b[0m-0.007941\u001b[0m | \u001b[0m 0.005   \u001b[0m | \u001b[0m 960.8   \u001b[0m | \u001b[0m 20.0    \u001b[0m | \u001b[0m 221.5   \u001b[0m | \u001b[0m 30.0    \u001b[0m | \u001b[0m 40.0    \u001b[0m | \u001b[0m 0.5     \u001b[0m |\n",
      "| \u001b[0m 60      \u001b[0m | \u001b[0m-0.00292 \u001b[0m | \u001b[0m 0.5     \u001b[0m | \u001b[0m 8.0     \u001b[0m | \u001b[0m 20.0    \u001b[0m | \u001b[0m 100.0   \u001b[0m | \u001b[0m 0.0     \u001b[0m | \u001b[0m 0.0     \u001b[0m | \u001b[0m 1.0     \u001b[0m |\n",
      "| \u001b[0m 61      \u001b[0m | \u001b[0m-0.003612\u001b[0m | \u001b[0m 0.5     \u001b[0m | \u001b[0m 301.7   \u001b[0m | \u001b[0m 20.0    \u001b[0m | \u001b[0m 100.0   \u001b[0m | \u001b[0m 30.0    \u001b[0m | \u001b[0m 0.0     \u001b[0m | \u001b[0m 1.0     \u001b[0m |\n",
      "| \u001b[0m 62      \u001b[0m | \u001b[0m-0.003407\u001b[0m | \u001b[0m 0.5     \u001b[0m | \u001b[0m 963.4   \u001b[0m | \u001b[0m 20.0    \u001b[0m | \u001b[0m 100.0   \u001b[0m | \u001b[0m 30.0    \u001b[0m | \u001b[0m 40.0    \u001b[0m | \u001b[0m 0.5     \u001b[0m |\n",
      "| \u001b[0m 63      \u001b[0m | \u001b[0m-0.003612\u001b[0m | \u001b[0m 0.5     \u001b[0m | \u001b[0m 478.6   \u001b[0m | \u001b[0m 20.0    \u001b[0m | \u001b[0m 100.0   \u001b[0m | \u001b[0m 30.0    \u001b[0m | \u001b[0m 0.0     \u001b[0m | \u001b[0m 1.0     \u001b[0m |\n",
      "| \u001b[0m 64      \u001b[0m | \u001b[0m-0.005328\u001b[0m | \u001b[0m 0.005   \u001b[0m | \u001b[0m 51.99   \u001b[0m | \u001b[0m 0.0     \u001b[0m | \u001b[0m 273.7   \u001b[0m | \u001b[0m 0.0     \u001b[0m | \u001b[0m 40.0    \u001b[0m | \u001b[0m 0.5     \u001b[0m |\n",
      "| \u001b[0m 65      \u001b[0m | \u001b[0m-0.007317\u001b[0m | \u001b[0m 0.005   \u001b[0m | \u001b[0m 409.3   \u001b[0m | \u001b[0m 20.0    \u001b[0m | \u001b[0m 254.0   \u001b[0m | \u001b[0m 30.0    \u001b[0m | \u001b[0m 40.0    \u001b[0m | \u001b[0m 0.5     \u001b[0m |\n",
      "=============================================================================================================\n",
      "8.77 minutes\n"
     ]
    }
   ],
   "source": [
    "start_time = time.time()#This takes about 9 mins on our machine using 8 cores\n",
    "model_type['model'] = 'lightgbm'\n",
    "lgb_optimizer = hyperparameter_tuning(model_results_cv, lgbm_param_dict)\n",
    "print(\"%.2f minutes\" % (int(time.time() - start_time)/60))"
   ]
  },
  {
   "cell_type": "markdown",
   "metadata": {},
   "source": [
    "##### Create new models using the optimized hyperparameters"
   ]
  },
  {
   "cell_type": "code",
   "execution_count": 20,
   "metadata": {},
   "outputs": [],
   "source": [
    "def optimal_params(optimizer):\n",
    "    target_value = [x['target'] for x in optimizer.res]\n",
    "    optimal_params= [x['params'] for x in optimizer.res if x['target']==max(target_value)][0]\n",
    "    return optimal_params"
   ]
  },
  {
   "cell_type": "code",
   "execution_count": 21,
   "metadata": {},
   "outputs": [],
   "source": [
    "xgbcv_params = optimal_params(xgb_optimizer)\n",
    "hist_xgbcv_params = optimal_params(histxgb_optimizer)\n",
    "lgbcv_params = optimal_params(lgb_optimizer)"
   ]
  },
  {
   "cell_type": "markdown",
   "metadata": {},
   "source": [
    "The depth parameters used for LightGBM and XGBoost(hist) actually specify the maximum number of leaves and have different names."
   ]
  },
  {
   "cell_type": "code",
   "execution_count": 22,
   "metadata": {},
   "outputs": [],
   "source": [
    "hist_xgbcv_params['max_leaves'] = hist_xgbcv_params['max_depth']\n",
    "del hist_xgbcv_params['max_depth']"
   ]
  },
  {
   "cell_type": "code",
   "execution_count": 23,
   "metadata": {},
   "outputs": [],
   "source": [
    "lgbcv_params['num_leaves'] = lgbcv_params['max_depth']\n",
    "del lgbcv_params['max_depth']"
   ]
  },
  {
   "cell_type": "code",
   "execution_count": 24,
   "metadata": {},
   "outputs": [
    {
     "data": {
      "text/html": [
       "<div>\n",
       "<style scoped>\n",
       "    .dataframe tbody tr th:only-of-type {\n",
       "        vertical-align: middle;\n",
       "    }\n",
       "\n",
       "    .dataframe tbody tr th {\n",
       "        vertical-align: top;\n",
       "    }\n",
       "\n",
       "    .dataframe thead th {\n",
       "        text-align: right;\n",
       "    }\n",
       "</style>\n",
       "<table border=\"1\" class=\"dataframe\">\n",
       "  <thead>\n",
       "    <tr style=\"text-align: right;\">\n",
       "      <th></th>\n",
       "      <th>learning_rate</th>\n",
       "      <th>max_depth</th>\n",
       "      <th>max_leaves</th>\n",
       "      <th>min_child_weight</th>\n",
       "      <th>num_boost_round</th>\n",
       "      <th>num_leaves</th>\n",
       "      <th>reg_alpha</th>\n",
       "      <th>reg_lambda</th>\n",
       "      <th>subsample</th>\n",
       "    </tr>\n",
       "  </thead>\n",
       "  <tbody>\n",
       "    <tr>\n",
       "      <th>XGBoost</th>\n",
       "      <td>0.16585</td>\n",
       "      <td>9.80578</td>\n",
       "      <td>NaN</td>\n",
       "      <td>1.247267</td>\n",
       "      <td>297.583207</td>\n",
       "      <td>NaN</td>\n",
       "      <td>2.154636</td>\n",
       "      <td>38.034508</td>\n",
       "      <td>0.609103</td>\n",
       "    </tr>\n",
       "    <tr>\n",
       "      <th>XGBoost(hist)</th>\n",
       "      <td>0.50000</td>\n",
       "      <td>NaN</td>\n",
       "      <td>734.68364</td>\n",
       "      <td>0.000000</td>\n",
       "      <td>100.000000</td>\n",
       "      <td>NaN</td>\n",
       "      <td>0.000000</td>\n",
       "      <td>40.000000</td>\n",
       "      <td>0.500000</td>\n",
       "    </tr>\n",
       "    <tr>\n",
       "      <th>LightGBM</th>\n",
       "      <td>0.50000</td>\n",
       "      <td>NaN</td>\n",
       "      <td>NaN</td>\n",
       "      <td>20.000000</td>\n",
       "      <td>300.000000</td>\n",
       "      <td>846.617552</td>\n",
       "      <td>0.000000</td>\n",
       "      <td>40.000000</td>\n",
       "      <td>0.500000</td>\n",
       "    </tr>\n",
       "  </tbody>\n",
       "</table>\n",
       "</div>"
      ],
      "text/plain": [
       "               learning_rate  max_depth  max_leaves  min_child_weight  \\\n",
       "XGBoost              0.16585    9.80578         NaN          1.247267   \n",
       "XGBoost(hist)        0.50000        NaN   734.68364          0.000000   \n",
       "LightGBM             0.50000        NaN         NaN         20.000000   \n",
       "\n",
       "               num_boost_round  num_leaves  reg_alpha  reg_lambda  subsample  \n",
       "XGBoost             297.583207         NaN   2.154636   38.034508   0.609103  \n",
       "XGBoost(hist)       100.000000         NaN   0.000000   40.000000   0.500000  \n",
       "LightGBM            300.000000  846.617552   0.000000   40.000000   0.500000  "
      ]
     },
     "execution_count": 24,
     "metadata": {},
     "output_type": "execute_result"
    }
   ],
   "source": [
    "pd.DataFrame(data=[xgbcv_params, hist_xgbcv_params, lgbcv_params],\n",
    "            index=['XGBoost','XGBoost(hist)','LightGBM'])"
   ]
  },
  {
   "cell_type": "markdown",
   "metadata": {},
   "source": [
    "#### XGboost algorithm"
   ]
  },
  {
   "cell_type": "code",
   "execution_count": 25,
   "metadata": {},
   "outputs": [],
   "source": [
    "xgbcv_params.update({\n",
    "        'objective': 'binary:logistic',\n",
    "        'eval_metric':'logloss',        \n",
    "        'scale_pos_weight': int(scale_pos_weight)\n",
    "        })\n",
    "\n",
    "xgbcv_params['learning_rate'] = max(xgbcv_params['learning_rate'],0)\n",
    "xgbcv_params['num_boost_round'] = int(xgbcv_params['num_boost_round'])\n",
    "xgbcv_params['min_child_weight'] = int(xgbcv_params['min_child_weight'])\n",
    "xgbcv_params['max_depth'] = int(xgbcv_params['max_depth'])\n",
    "xgbcv_params['subsample'] = max(min(xgbcv_params['subsample'], 1), 0)\n",
    "xgbcv_params['reg_alpha'] = max(xgbcv_params['reg_alpha'],0)\n",
    "xgbcv_params['reg_lambda'] = max(xgbcv_params['reg_lambda'],0)"
   ]
  },
  {
   "cell_type": "code",
   "execution_count": 26,
   "metadata": {
    "scrolled": true
   },
   "outputs": [
    {
     "data": {
      "text/plain": [
       "{'learning_rate': 0.16584995249175608,\n",
       " 'max_depth': 9,\n",
       " 'min_child_weight': 1,\n",
       " 'num_boost_round': 297,\n",
       " 'reg_alpha': 2.154635776685131,\n",
       " 'reg_lambda': 38.03450762059388,\n",
       " 'subsample': 0.6091034842696217,\n",
       " 'objective': 'binary:logistic',\n",
       " 'eval_metric': 'logloss',\n",
       " 'scale_pos_weight': 577}"
      ]
     },
     "execution_count": 26,
     "metadata": {},
     "output_type": "execute_result"
    }
   ],
   "source": [
    "xgbcv_params"
   ]
  },
  {
   "cell_type": "code",
   "execution_count": 27,
   "metadata": {},
   "outputs": [],
   "source": [
    "##################\n",
    "# Train XGBoost Classifier\n",
    "xgb_classifier = xgb.train(xgbcv_params, xgb_train_data)\n",
    "\n",
    "# Predict probabilities\n",
    "train_preds_xgb = xgb_classifier.predict(xgb_train_data)\n",
    "test_preds_xgb = xgb_classifier.predict(xgb_test_data)\n"
   ]
  },
  {
   "cell_type": "markdown",
   "metadata": {},
   "source": [
    "#### Modified XGBoost algorithm"
   ]
  },
  {
   "cell_type": "code",
   "execution_count": 28,
   "metadata": {},
   "outputs": [],
   "source": [
    "hist_xgbcv_params.update({\n",
    "         'objective': 'binary:logistic',\n",
    "         'eval_metric':'logloss',\n",
    "         'tree_method':'hist',\n",
    "         'grow_policy':'lossguide',\n",
    "         'max_bin': 100,\n",
    "         'scale_pos_weight': int(scale_pos_weight)})\n",
    "\n",
    "hist_xgbcv_params['learning_rate'] = max(hist_xgbcv_params['learning_rate'],0)\n",
    "hist_xgbcv_params['num_boost_round'] = int(hist_xgbcv_params['num_boost_round'])\n",
    "hist_xgbcv_params['min_child_weight'] = int(hist_xgbcv_params['min_child_weight'])\n",
    "hist_xgbcv_params['max_leaves'] = int(hist_xgbcv_params['max_leaves'])\n",
    "hist_xgbcv_params['subsample'] = max(min(hist_xgbcv_params['subsample'], 1), 0)\n",
    "hist_xgbcv_params['reg_alpha'] = max(hist_xgbcv_params['reg_alpha'],0)\n",
    "hist_xgbcv_params['reg_lambda'] = max(hist_xgbcv_params['reg_lambda'],0)"
   ]
  },
  {
   "cell_type": "code",
   "execution_count": 29,
   "metadata": {
    "scrolled": true
   },
   "outputs": [
    {
     "data": {
      "text/plain": [
       "{'learning_rate': 0.5,\n",
       " 'min_child_weight': 0,\n",
       " 'num_boost_round': 100,\n",
       " 'reg_alpha': 0.0,\n",
       " 'reg_lambda': 40.0,\n",
       " 'subsample': 0.5,\n",
       " 'max_leaves': 734,\n",
       " 'objective': 'binary:logistic',\n",
       " 'eval_metric': 'logloss',\n",
       " 'tree_method': 'hist',\n",
       " 'grow_policy': 'lossguide',\n",
       " 'max_bin': 100,\n",
       " 'scale_pos_weight': 577}"
      ]
     },
     "execution_count": 29,
     "metadata": {},
     "output_type": "execute_result"
    }
   ],
   "source": [
    "hist_xgbcv_params"
   ]
  },
  {
   "cell_type": "code",
   "execution_count": 30,
   "metadata": {},
   "outputs": [],
   "source": [
    "##################\n",
    "# Train Modified XGBoost Classifier\n",
    "histxgb_classifier = xgb.train(hist_xgbcv_params, xgb_train_data)\n",
    "\n",
    "# Predict probabilities\n",
    "train_preds_histxgb = histxgb_classifier.predict(xgb_train_data)\n",
    "test_preds_histxgb = histxgb_classifier.predict(xgb_test_data)\n"
   ]
  },
  {
   "cell_type": "markdown",
   "metadata": {},
   "source": [
    "#### Light GBM algorithm"
   ]
  },
  {
   "cell_type": "code",
   "execution_count": 31,
   "metadata": {},
   "outputs": [],
   "source": [
    "lgbcv_params.update({\n",
    "    'objective': 'binary',\n",
    "    'metric': 'binary_logloss',\n",
    "    'boosting': 'gbdt',\n",
    "    'max_bin': 100})\n",
    "\n",
    "lgbcv_params['learning_rate'] = max(lgbcv_params['learning_rate'],0)\n",
    "lgbcv_params['num_boost_round'] = int(lgbcv_params['num_boost_round'])\n",
    "lgbcv_params['min_child_weight'] = int(lgbcv_params['min_child_weight'])\n",
    "lgbcv_params['num_leaves'] = int(lgbcv_params['num_leaves'])\n",
    "lgbcv_params['subsample'] = max(min(lgbcv_params['subsample'], 1), 0)\n",
    "lgbcv_params['reg_alpha'] = max(lgbcv_params['reg_alpha'],0)\n",
    "lgbcv_params['reg_lambda'] = max(lgbcv_params['reg_lambda'],0)"
   ]
  },
  {
   "cell_type": "code",
   "execution_count": 32,
   "metadata": {
    "scrolled": true
   },
   "outputs": [
    {
     "data": {
      "text/plain": [
       "{'learning_rate': 0.5,\n",
       " 'min_child_weight': 20,\n",
       " 'num_boost_round': 300,\n",
       " 'reg_alpha': 0.0,\n",
       " 'reg_lambda': 40.0,\n",
       " 'subsample': 0.5,\n",
       " 'num_leaves': 846,\n",
       " 'objective': 'binary',\n",
       " 'metric': 'binary_logloss',\n",
       " 'boosting': 'gbdt',\n",
       " 'max_bin': 100}"
      ]
     },
     "execution_count": 32,
     "metadata": {},
     "output_type": "execute_result"
    }
   ],
   "source": [
    "lgbcv_params"
   ]
  },
  {
   "cell_type": "code",
   "execution_count": 33,
   "metadata": {},
   "outputs": [],
   "source": [
    "##################\n",
    "#Train LightGBM Classifier\n",
    "lgb_classifier = lgb.train(lgbcv_params,lgb_train_data,valid_sets=lgb_test_data, verbose_eval=False)\n",
    "\n",
    "# Predict probabilities\n",
    "train_preds_lgb = lgb_classifier.predict(X_train, num_iteration=lgb_classifier.best_iteration)\n",
    "test_preds_lgb = lgb_classifier.predict(X_test, num_iteration=lgb_classifier.best_iteration)"
   ]
  },
  {
   "cell_type": "markdown",
   "metadata": {},
   "source": [
    "## Assess performance\n",
    "We will assess performance using two measures: <br>\n",
    "__Precision Recall Curve__<br>\n",
    "First we will assess the performance of the models using a metric known as Area Under the Precision Recall Curve (AU PRC). This metric is more robust to imbalanced datasets than measures such as loss, accuracy, or Area Under the Receiver Operator Curve (AUC).<br>\n",
    "__Confusion Matrices__<br>\n",
    "Another way in which we shall assess the performance is by inspecting confusion matrices for the three models."
   ]
  },
  {
   "cell_type": "code",
   "execution_count": 34,
   "metadata": {},
   "outputs": [],
   "source": [
    "# Function for getting the confusion matrices\n",
    "def Confusion_Matrix(Y, preds, title):\n",
    "\n",
    "    # Convert the model probabilities to class predictions\n",
    "    class_preds = np.where(preds > 0.5, 1, 0)\n",
    "    conf_matrix=confusion_matrix( Y, class_preds)\n",
    "    conf = pretty_confusion_matrix(confusion_matrix=conf_matrix,plot_name=title)\n",
    "    conf.print_confusion_matrix()"
   ]
  },
  {
   "cell_type": "markdown",
   "metadata": {},
   "source": [
    "__XGBoost__"
   ]
  },
  {
   "cell_type": "code",
   "execution_count": 35,
   "metadata": {},
   "outputs": [
    {
     "name": "stdout",
     "output_type": "stream",
     "text": [
      "The AUC PR score for XGBoost algorithm on train data is :  0.8253359751676701\n",
      "The AUC PR score for XGBoost algorithm on test data is :  0.8025042479831641\n"
     ]
    }
   ],
   "source": [
    "# Calculate precision-recall curve\n",
    "precision_train, recall_train, thresholds_train = precision_recall_curve(y_train, train_preds_xgb)\n",
    "precision_test, recall_test, thresholds_test = precision_recall_curve(y_test, test_preds_xgb)\n",
    "\n",
    "# Calculate precision-recall AUC\n",
    "auc_train = auc(recall_train, precision_train)\n",
    "auc_test = auc(recall_test, precision_test)\n",
    "\n",
    "print('The AUC PR score for XGBoost algorithm on train data is : ',auc_train)\n",
    "print('The AUC PR score for XGBoost algorithm on test data is : ',auc_test)"
   ]
  },
  {
   "cell_type": "code",
   "execution_count": 36,
   "metadata": {},
   "outputs": [
    {
     "data": {
      "image/png": "[encoded data removed]",
      "text/plain": [
       "<Figure size 360x360 with 1 Axes>"
      ]
     },
     "metadata": {
      "needs_background": "light"
     },
     "output_type": "display_data"
    },
    {
     "data": {
      "image/png": "[encoded data removed]",
      "text/plain": [
       "<Figure size 360x360 with 1 Axes>"
      ]
     },
     "metadata": {
      "needs_background": "light"
     },
     "output_type": "display_data"
    }
   ],
   "source": [
    "Confusion_Matrix(y_train,train_preds_xgb, title = 'XGB Train')\n",
    "Confusion_Matrix(y_test,test_preds_xgb, title = 'XGB Test')"
   ]
  },
  {
   "cell_type": "markdown",
   "metadata": {},
   "source": [
    "__Modified XGBoost - With Hist Method__"
   ]
  },
  {
   "cell_type": "code",
   "execution_count": 37,
   "metadata": {
    "scrolled": true
   },
   "outputs": [
    {
     "name": "stdout",
     "output_type": "stream",
     "text": [
      "The AUC PR score for Modified XGBoost algorithm on train data is :  0.8109210470852004\n",
      "The AUC PR score for Modified XGBoost algorithm on test data is :  0.7778366746455782\n"
     ]
    }
   ],
   "source": [
    "# Calculate precision-recall curve\n",
    "precision_train, recall_train, thresholds_train = precision_recall_curve(y_train, train_preds_histxgb)\n",
    "precision_test, recall_test, thresholds_test = precision_recall_curve(y_test, test_preds_histxgb)\n",
    "\n",
    "# Calculate precision-recall AUC\n",
    "auc_train = auc(recall_train, precision_train)\n",
    "auc_test = auc(recall_test, precision_test)\n",
    "\n",
    "print('The AUC PR score for Modified XGBoost algorithm on train data is : ', auc_train)\n",
    "print('The AUC PR score for Modified XGBoost algorithm on test data is : ', auc_test)"
   ]
  },
  {
   "cell_type": "code",
   "execution_count": 38,
   "metadata": {},
   "outputs": [
    {
     "data": {
      "image/png": "[encoded data removed]",
      "text/plain": [
       "<Figure size 360x360 with 1 Axes>"
      ]
     },
     "metadata": {
      "needs_background": "light"
     },
     "output_type": "display_data"
    },
    {
     "data": {
      "image/png": "[encoded data removed]",
      "text/plain": [
       "<Figure size 360x360 with 1 Axes>"
      ]
     },
     "metadata": {
      "needs_background": "light"
     },
     "output_type": "display_data"
    }
   ],
   "source": [
    "Confusion_Matrix(y_train,train_preds_histxgb, title = 'Hist XGB Train')\n",
    "Confusion_Matrix(y_test,test_preds_histxgb, title = 'Hist XGB Test')"
   ]
  },
  {
   "cell_type": "markdown",
   "metadata": {},
   "source": [
    "__Light GBM algorithm__"
   ]
  },
  {
   "cell_type": "code",
   "execution_count": 39,
   "metadata": {},
   "outputs": [
    {
     "name": "stdout",
     "output_type": "stream",
     "text": [
      "The AUC PR score for Light GBM algorithm on train data is :  0.9434874577691575\n",
      "The AUC PR score for Light GBM algorithm on test data is :  0.8861343652360033\n"
     ]
    }
   ],
   "source": [
    "# Calculate precision-recall curve\n",
    "precision_train, recall_train, thresholds_train = precision_recall_curve(y_train, train_preds_lgb)\n",
    "precision_test, recall_test, thresholds_test = precision_recall_curve(y_test, test_preds_lgb)\n",
    "\n",
    "# Calculate precision-recall AUC\n",
    "auc_train = auc(recall_train, precision_train)\n",
    "auc_test = auc(recall_test, precision_test)\n",
    "\n",
    "print('The AUC PR score for Light GBM algorithm on train data is : ', auc_train)\n",
    "print('The AUC PR score for Light GBM algorithm on test data is : ', auc_test)"
   ]
  },
  {
   "cell_type": "code",
   "execution_count": 40,
   "metadata": {},
   "outputs": [
    {
     "data": {
      "image/png": "[encoded data removed]",
      "text/plain": [
       "<Figure size 360x360 with 1 Axes>"
      ]
     },
     "metadata": {
      "needs_background": "light"
     },
     "output_type": "display_data"
    },
    {
     "data": {
      "image/png": "[encoded data removed]",
      "text/plain": [
       "<Figure size 360x360 with 1 Axes>"
      ]
     },
     "metadata": {
      "needs_background": "light"
     },
     "output_type": "display_data"
    }
   ],
   "source": [
    "Confusion_Matrix(y_train,train_preds_lgb, title = 'LGB Train')\n",
    "Confusion_Matrix(y_test,test_preds_lgb, title = 'LGB Test')"
   ]
  },
  {
   "cell_type": "markdown",
   "metadata": {},
   "source": [
    "## Summary \n",
    "\n",
    "#### Run Time Comparsion (one iteration)\n",
    "*  Default XGBoost -- 31.6 seconds\n",
    "*  Modified XGBoost(with histogram splitting & different grow policy) -- 5.49 seconds\n",
    "* Light GBM -- 1.81 seconds\n",
    "\n",
    "#### Run Time Comparsion (hyperparameter search)\n",
    "*  Default XGBoost -- 73.3 minutes\n",
    "*  Modified XGBoost(with histogram splitting & different grow policy) -- 46.3 minutes\n",
    "* Light GBM -- 8.8 minutes\n",
    "\n",
    "#### Performance Comparsion (AU PRC metric on test data)\n",
    "*  Default XGBoost -- 0.80\n",
    "*  Modified XGBoost (with histogram splitting & different grow policy) -- 0.78\n",
    "* Light GBM -- 0.88\n"
   ]
  }
 ],
 "metadata": {
  "kernelspec": {
   "display_name": "XGBvsLGBM",
   "language": "python",
   "name": "xgbvslgbm"
  },
  "language_info": {
   "codemirror_mode": {
    "name": "ipython",
    "version": 3
   },
   "file_extension": ".py",
   "mimetype": "text/x-python",
   "name": "python",
   "nbconvert_exporter": "python",
   "pygments_lexer": "ipython3",
   "version": "3.6.5"
  }
 },
 "nbformat": 4,
 "nbformat_minor": 2
}
